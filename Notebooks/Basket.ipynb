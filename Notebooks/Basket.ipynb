{
 "cells": [
  {
   "cell_type": "markdown",
   "metadata": {},
   "source": [
    "## Análise de cestas (basket analysis)"
   ]
  },
  {
   "cell_type": "markdown",
   "metadata": {},
   "source": [
    "A análise de cestas é uma técnica de modelagem que procura associar um grupo de itens a outro grupo de itens, reconhecendo padrões nas chamadas *transações*. Essa técnica pode ser usada num contexto onde queremos dizer: \"Quem comprou A também comprou B\". Um exemplo muito comum é a seguinte regra, que é bem intuitiva para nós no contexto de supermercados: Quem compra arroz também compra feijão. Essa *regra de associação* pode ser representada da seguinte maneira:\n",
    "\n",
    "<p style=\"text-align: center;\">\n",
    "{Arroz} => {Feijão}\n",
    "</p>    \n",
    "\n",
    "Neste caso, o item Arroz é chamado de *Antecedente* e o item Feijão de *Consequente*."
   ]
  },
  {
   "cell_type": "markdown",
   "metadata": {},
   "source": [
    "Essa regra pode ser encontrada através de uma base transacional, que pode ser da seguinte maneira:\n",
    "\n",
    "| Transação \t| Itens                  \t|\n",
    "|-----------\t|------------------------\t|\n",
    "| 1         \t| Arroz, Farinha, Feijão \t|\n",
    "| 2         \t| Arroz, Feijão          \t|\n",
    "| 3         \t| Arroz, Ovos            \t|\n",
    "| 4         \t| Biscoito, Café         \t|\n",
    "\n",
    "Cada linha dessa base transacional apresenta todos os itens que foram levados numa mesma transação, portanto."
   ]
  },
  {
   "cell_type": "markdown",
   "metadata": {},
   "source": [
    "Vamos definir alguns conceitos importantes da análise de *basket*:\n",
    "\n",
    "- **Suporte** - Frequência relativa dos elementos da regra (juntos).\n",
    "- **Confiança** - Dado que o *antecedente* consta nas transações, é a proporção de vezes em que o *consequente* também aparece.\n",
    "- **Lift** - Razão entre a confiança da regra e o suporte do *consequente*. Uma outra forma de calcular é com a razão entre suporte dos itens da regra (antecedente e consequente) e o produto dos suportes de cada item. Quanto mais próximo de 1, mais indica-se que o antecedente não aumenta nem diminui a chance de o consequente aparecer. Se for maior que 1, indica que o consequente torna-se mais provável de ser levado e se for menor que 1, a relação é inversa.\n",
    "\n",
    "O algoritmo que executa essa técnica é chamado de *Apriori* e é implementado no R pelo pacote `arules` e no python com o `mlxtend.frequent_patterns`."
   ]
  }
 ],
 "metadata": {
  "kernelspec": {
   "display_name": "R",
   "language": "R",
   "name": "ir"
  },
  "language_info": {
   "codemirror_mode": "r",
   "file_extension": ".r",
   "mimetype": "text/x-r-source",
   "name": "R",
   "pygments_lexer": "r",
   "version": "3.5.3"
  }
 },
 "nbformat": 4,
 "nbformat_minor": 2
}
