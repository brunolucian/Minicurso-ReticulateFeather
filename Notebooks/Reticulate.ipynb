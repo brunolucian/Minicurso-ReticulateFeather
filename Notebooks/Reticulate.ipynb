{
 "cells": [
  {
   "cell_type": "code",
   "execution_count": 20,
   "metadata": {},
   "outputs": [],
   "source": [
    "require(reticulate)"
   ]
  },
  {
   "cell_type": "markdown",
   "metadata": {},
   "source": [
    "Por padrão, o reticulate encontra a versão do python que é encontrada com a função `Sys.which(\"python\")`. Porém neste ambiente foi instalado o Anaconda, com vários módulos python instalados. Então vamos apontar pro comando `use_python` o diretório do python dentro do Anaconda."
   ]
  },
  {
   "cell_type": "code",
   "execution_count": 21,
   "metadata": {},
   "outputs": [],
   "source": [
    "use_python(\"/opt/anaconda3/bin/python3\")"
   ]
  },
  {
   "cell_type": "markdown",
   "metadata": {},
   "source": [
    "Criamos um script em python que define uma função que soma dois números. Vamos carregar o script via `source_python()`. Em seguida já podemos usar a função que tem como nome `add`."
   ]
  },
  {
   "cell_type": "code",
   "execution_count": 22,
   "metadata": {},
   "outputs": [
    {
     "data": {
      "text/html": [
       "3"
      ],
      "text/latex": [
       "3"
      ],
      "text/markdown": [
       "3"
      ],
      "text/plain": [
       "[1] 3"
      ]
     },
     "metadata": {},
     "output_type": "display_data"
    }
   ],
   "source": [
    "source_python(\"Code//Add.py\")\n",
    "\n",
    "add(1, 2)"
   ]
  },
  {
   "cell_type": "code",
   "execution_count": 34,
   "metadata": {},
   "outputs": [
    {
     "data": {
      "text/html": [
       "<ol class=list-inline>\n",
       "\t<li>'numpy.ndarray'</li>\n",
       "\t<li>'python.builtin.object'</li>\n",
       "</ol>\n"
      ],
      "text/latex": [
       "\\begin{enumerate*}\n",
       "\\item 'numpy.ndarray'\n",
       "\\item 'python.builtin.object'\n",
       "\\end{enumerate*}\n"
      ],
      "text/markdown": [
       "1. 'numpy.ndarray'\n",
       "2. 'python.builtin.object'\n",
       "\n",
       "\n"
      ],
      "text/plain": [
       "[1] \"numpy.ndarray\"         \"python.builtin.object\""
      ]
     },
     "metadata": {},
     "output_type": "display_data"
    },
    {
     "data": {
      "text/html": [
       "'array'"
      ],
      "text/latex": [
       "'array'"
      ],
      "text/markdown": [
       "'array'"
      ],
      "text/plain": [
       "[1] \"array\""
      ]
     },
     "metadata": {},
     "output_type": "display_data"
    }
   ],
   "source": [
    "np <- import(\"numpy\", convert = F) \n",
    "\n",
    "a <- np$array(c(1:4))\n",
    "sum <- a$cumsum()\n",
    "\n",
    "class(sum)\n",
    "class(py_to_r(sum))"
   ]
  }
 ],
 "metadata": {
  "kernelspec": {
   "display_name": "R",
   "language": "R",
   "name": "ir"
  },
  "language_info": {
   "codemirror_mode": "r",
   "file_extension": ".r",
   "mimetype": "text/x-r-source",
   "name": "R",
   "pygments_lexer": "r",
   "version": "3.5.3"
  }
 },
 "nbformat": 4,
 "nbformat_minor": 2
}
