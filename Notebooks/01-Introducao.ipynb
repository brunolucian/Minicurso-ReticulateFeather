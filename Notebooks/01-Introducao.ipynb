{
 "cells": [
  {
   "cell_type": "markdown",
   "metadata": {},
   "source": [
    "# Integrando R e Python: Usando reticulate e feather\n",
    "\n"
   ]
  },
  {
   "cell_type": "markdown",
   "metadata": {},
   "source": [
    "Por que usar R e Python em conjunto?\n",
    "\n",
    "Como cientistas de dados, o ideal é saber utilizar bem as linguagens *mainstream* para a ciência de dados, como R e Python. \n",
    "Afinal ambos têm pontos fortes únicos que podemos usar a nosso favor.\n",
    "\n",
    "Podemos pensar que pode ser um incômodo mudar de uma linguagem para a outra, que até\n",
    "não vale a pena, e há alguns anos atrás esse pensamento seria correto! \n",
    "No entanto, hoje em dia existem algumas maneiras de obter o melhor dos dois mundos.\n",
    "Se você está vindo da comunidade R, uma opção é usar o pacote [`reticulate`](https://rstudio.github.io/reticulate/). \n",
    "Se estiver vindo do Python, então a opção é o [`rpy2`](https://rpy2.readthedocs.io/en/version_2.8.x/index.html). \n",
    "Aqui vamos focar no `reticulate` e vamos também apresentar o pacote [`feather`](https://blog.rstudio.com/2016/03/29/feather/), \n",
    "que é desenvolvido por duas importantes pessoas dos dois mundos: Hadley Wickham e Wes McKinney.\n"
   ]
  },
  {
   "cell_type": "markdown",
   "metadata": {},
   "source": [
    "## Reticulate"
   ]
  },
  {
   "cell_type": "markdown",
   "metadata": {},
   "source": [
    "O pacote `reticulate` fornece um conjunto de ferramentas para usar o R e o Python interativamente dentro de uma sessão R. \n",
    "Digamos que você esteja trabalhando em Python e precise de um modelo estatístico especializado de um pacote R - ou você \n",
    "está trabalhando em R e deseja acessar os recursos de ML do Python. \n",
    "Esse pacote foi feito para tarefas em que é necessário ou simplesmente mais fácil\n",
    "usar os dois idiomas como parte do fluxo de trabalho.\n",
    "\n",
    "Existem maneiras diferentes de usar o R e o Python de forma interativa, e a seguir mostraremos essas maneiras de integrar as duas linguagens."
   ]
  },
  {
   "cell_type": "markdown",
   "metadata": {},
   "source": [
    "## Feather\n"
   ]
  },
  {
   "cell_type": "markdown",
   "metadata": {},
   "source": [
    "O pacote foi criado em 2016 por Hadley Wickham e Wes McKinney, duas pessoas importantes da comunidade R e Python, respectivamente, com o objetivo de possibilitar a interoperabilidade das linguagens.\n",
    "\n",
    "Feather é um formato de arquivo binário que é rápido, leve e fácil de usar, feito para armazenar tabelas de dados. Além disso, é um formato agnóstico, ou seja, que não muda de acordo com a linguagem de programação usada. Isso significa que, para uma mesma tabela, os arquivos gerados em python e em R são os mesmos."
   ]
  },
  {
   "cell_type": "markdown",
   "metadata": {},
   "source": [
    "# Material no Git\n",
    "\n",
    "Todo este material está num repositório Git hospedado no GitHub, [neste endereço](https://github.com/brunolucian/Minicurso-ReticulateFeather). Para saber mais sobre Git, [veja aqui](https://www.dadosaleatorios.com.br/post/introdu%C3%A7%C3%A3o-ao-git/)"
   ]
  }
 ],
 "metadata": {
  "kernelspec": {
   "display_name": "R",
   "language": "R",
   "name": "ir"
  },
  "language_info": {
   "codemirror_mode": "r",
   "file_extension": ".r",
   "mimetype": "text/x-r-source",
   "name": "R",
   "pygments_lexer": "r",
   "version": "3.5.3"
  }
 },
 "nbformat": 4,
 "nbformat_minor": 2
}
