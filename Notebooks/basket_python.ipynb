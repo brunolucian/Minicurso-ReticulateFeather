{
 "cells": [
  {
   "cell_type": "code",
   "execution_count": 36,
   "metadata": {},
   "outputs": [],
   "source": [
    "import pandas as pd\n",
    "\n",
    "customers = pd.read_csv(\"../Dados/olist_customers_dataset.csv\", encoding = \"UTF-8\")\n",
    "geolocation = pd.read_csv(\"../Dados/olist_geolocation_dataset.csv\", encoding = \"UTF-8\")\n",
    "items = pd.read_csv(\"../Dados/olist_order_items_dataset.csv\", encoding = \"UTF-8\")\n",
    "payments = pd.read_csv(\"../Dados/olist_order_payments_dataset.csv\", encoding = \"UTF-8\")\n",
    "reviews = pd.read_csv(\"../Dados/olist_order_reviews_dataset.csv\", encoding = \"UTF-8\")\n",
    "orders = pd.read_csv(\"../Dados/olist_orders_dataset.csv\", encoding = \"UTF-8\")\n",
    "products = pd.read_csv(\"../Dados/olist_products_dataset.csv\", encoding = \"UTF-8\")\n",
    "sellers = pd.read_csv(\"../Dados/olist_sellers_dataset.csv\", encoding = \"UTF-8\")\n",
    "product_category = pd.read_csv(\"../Dados/product_category_name_translation.csv\", encoding = \"UTF-8\")"
   ]
  },
  {
   "cell_type": "code",
   "execution_count": 37,
   "metadata": {},
   "outputs": [],
   "source": [
    "orders = pd.merge(orders, items, left_on = \"order_id\", right_on = \"order_id\", how = \"left\")\n",
    "orders = pd.merge(orders, products, left_on = \"product_id\", right_on = \"product_id\", how = \"left\")\n"
   ]
  },
  {
   "cell_type": "code",
   "execution_count": 38,
   "metadata": {},
   "outputs": [],
   "source": [
    "orders = orders[['order_id', 'product_category_name']].drop_duplicates()"
   ]
  },
  {
   "cell_type": "code",
   "execution_count": 39,
   "metadata": {},
   "outputs": [],
   "source": [
    "#orders.query(\"product_category_name == \")"
   ]
  },
  {
   "cell_type": "code",
   "execution_count": 51,
   "metadata": {},
   "outputs": [],
   "source": [
    "cont_orders = orders.groupby(\"order_id\")[[\"order_id\"]].count()"
   ]
  },
  {
   "cell_type": "code",
   "execution_count": 61,
   "metadata": {},
   "outputs": [
    {
     "data": {
      "text/plain": [
       "Index(['order_id'], dtype='object')"
      ]
     },
     "execution_count": 61,
     "metadata": {},
     "output_type": "execute_result"
    }
   ],
   "source": [
    "cont_orders.columns"
   ]
  },
  {
   "cell_type": "code",
   "execution_count": 27,
   "metadata": {},
   "outputs": [
    {
     "data": {
      "text/plain": [
       "0   NaN\n",
       "1   NaN\n",
       "2   NaN\n",
       "3   NaN\n",
       "4   NaN\n",
       "Name: cont_order, dtype: float64"
      ]
     },
     "execution_count": 27,
     "metadata": {},
     "output_type": "execute_result"
    }
   ],
   "source": [
    "orders.cont_order.head()"
   ]
  },
  {
   "cell_type": "code",
   "execution_count": null,
   "metadata": {},
   "outputs": [],
   "source": []
  }
 ],
 "metadata": {
  "kernelspec": {
   "display_name": "Python 3",
   "language": "python",
   "name": "python3"
  },
  "language_info": {
   "codemirror_mode": {
    "name": "ipython",
    "version": 3
   },
   "file_extension": ".py",
   "mimetype": "text/x-python",
   "name": "python",
   "nbconvert_exporter": "python",
   "pygments_lexer": "ipython3",
   "version": "3.7.1"
  }
 },
 "nbformat": 4,
 "nbformat_minor": 2
}
