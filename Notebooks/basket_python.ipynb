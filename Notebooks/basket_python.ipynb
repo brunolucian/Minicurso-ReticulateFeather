{
 "cells": [
  {
   "cell_type": "code",
   "execution_count": 64,
   "metadata": {},
   "outputs": [],
   "source": [
    "import pandas as pd\n",
    "\n",
    "customers = pd.read_csv(\"../Dados/olist_customers_dataset.csv\", encoding = \"UTF-8\")\n",
    "geolocation = pd.read_csv(\"../Dados/olist_geolocation_dataset.csv\", encoding = \"UTF-8\")\n",
    "items = pd.read_csv(\"../Dados/olist_order_items_dataset.csv\", encoding = \"UTF-8\")\n",
    "payments = pd.read_csv(\"../Dados/olist_order_payments_dataset.csv\", encoding = \"UTF-8\")\n",
    "reviews = pd.read_csv(\"../Dados/olist_order_reviews_dataset.csv\", encoding = \"UTF-8\")\n",
    "orders = pd.read_csv(\"../Dados/olist_orders_dataset.csv\", encoding = \"UTF-8\")\n",
    "products = pd.read_csv(\"../Dados/olist_products_dataset.csv\", encoding = \"UTF-8\")\n",
    "sellers = pd.read_csv(\"../Dados/olist_sellers_dataset.csv\", encoding = \"UTF-8\")\n",
    "product_category = pd.read_csv(\"../Dados/product_category_name_translation.csv\", encoding = \"UTF-8\")"
   ]
  },
  {
   "cell_type": "code",
   "execution_count": 65,
   "metadata": {},
   "outputs": [],
   "source": [
    "orders = pd.merge(orders, items, left_on = \"order_id\", right_on = \"order_id\", how = \"left\")\n",
    "orders = pd.merge(orders, products, left_on = \"product_id\", right_on = \"product_id\", how = \"left\")\n"
   ]
  },
  {
   "cell_type": "code",
   "execution_count": 66,
   "metadata": {},
   "outputs": [],
   "source": [
    "orders = orders[['order_id', 'product_category_name']].drop_duplicates()"
   ]
  },
  {
   "cell_type": "code",
   "execution_count": 67,
   "metadata": {},
   "outputs": [],
   "source": [
    "#orders.query(\"product_category_name == \")"
   ]
  },
  {
   "cell_type": "code",
   "execution_count": 68,
   "metadata": {},
   "outputs": [],
   "source": [
    "orders = orders.groupby('order_id').filter(lambda x: len(x) >= 2)"
   ]
  },
  {
   "cell_type": "code",
   "execution_count": 72,
   "metadata": {},
   "outputs": [
    {
     "data": {
      "text/html": [
       "<div>\n",
       "<style scoped>\n",
       "    .dataframe tbody tr th:only-of-type {\n",
       "        vertical-align: middle;\n",
       "    }\n",
       "\n",
       "    .dataframe tbody tr th {\n",
       "        vertical-align: top;\n",
       "    }\n",
       "\n",
       "    .dataframe thead th {\n",
       "        text-align: right;\n",
       "    }\n",
       "</style>\n",
       "<table border=\"1\" class=\"dataframe\">\n",
       "  <thead>\n",
       "    <tr style=\"text-align: right;\">\n",
       "      <th></th>\n",
       "      <th>order_id</th>\n",
       "      <th>product_category_name</th>\n",
       "    </tr>\n",
       "  </thead>\n",
       "  <tbody>\n",
       "    <tr>\n",
       "      <th>68</th>\n",
       "      <td>688052146432ef8253587b930b01a06d</td>\n",
       "      <td>informatica_acessorios</td>\n",
       "    </tr>\n",
       "    <tr>\n",
       "      <th>69</th>\n",
       "      <td>688052146432ef8253587b930b01a06d</td>\n",
       "      <td>malas_acessorios</td>\n",
       "    </tr>\n",
       "  </tbody>\n",
       "</table>\n",
       "</div>"
      ],
      "text/plain": [
       "                            order_id   product_category_name\n",
       "68  688052146432ef8253587b930b01a06d  informatica_acessorios\n",
       "69  688052146432ef8253587b930b01a06d        malas_acessorios"
      ]
     },
     "execution_count": 72,
     "metadata": {},
     "output_type": "execute_result"
    }
   ],
   "source": [
    "orders.head(2)"
   ]
  },
  {
   "cell_type": "code",
   "execution_count": 75,
   "metadata": {},
   "outputs": [],
   "source": [
    "orders_dummy = pd.get_dummies(orders[\"product_category_name\"])"
   ]
  }
 ],
 "metadata": {
  "kernelspec": {
   "display_name": "Python 3",
   "language": "python",
   "name": "python3"
  },
  "language_info": {
   "codemirror_mode": {
    "name": "ipython",
    "version": 3
   },
   "file_extension": ".py",
   "mimetype": "text/x-python",
   "name": "python",
   "nbconvert_exporter": "python",
   "pygments_lexer": "ipython3",
   "version": "3.7.1"
  }
 },
 "nbformat": 4,
 "nbformat_minor": 2
}
