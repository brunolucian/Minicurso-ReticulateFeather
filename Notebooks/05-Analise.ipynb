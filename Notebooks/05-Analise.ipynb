{
 "cells": [
  {
   "cell_type": "code",
   "execution_count": 17,
   "metadata": {},
   "outputs": [],
   "source": [
    "source(\"../Code/importa_dados.R\")"
   ]
  },
  {
   "cell_type": "markdown",
   "metadata": {},
   "source": [
    "## Ativação dos pacotes necessários:"
   ]
  },
  {
   "cell_type": "code",
   "execution_count": 18,
   "metadata": {},
   "outputs": [],
   "source": [
    "require(tidyverse, quietly = T)\n",
    "require(data.table)\n",
    "require(arules)"
   ]
  },
  {
   "cell_type": "markdown",
   "metadata": {},
   "source": [
    "## Clientes"
   ]
  },
  {
   "cell_type": "code",
   "execution_count": 19,
   "metadata": {},
   "outputs": [
    {
     "name": "stdout",
     "output_type": "stream",
     "text": [
      "Observations: 99,441\n",
      "Variables: 5\n",
      "$ customer_id              \u001b[3m\u001b[90m<chr>\u001b[39m\u001b[23m \"06b8999e2fba1a1fbc88172c00ba8bc7\", \"18955e8…\n",
      "$ customer_unique_id       \u001b[3m\u001b[90m<chr>\u001b[39m\u001b[23m \"861eff4711a542e4b93843c6dd7febb0\", \"290c77b…\n",
      "$ customer_zip_code_prefix \u001b[3m\u001b[90m<int>\u001b[39m\u001b[23m 14409, 9790, 1151, 8775, 13056, 89254, 4534,…\n",
      "$ customer_city            \u001b[3m\u001b[90m<chr>\u001b[39m\u001b[23m \"franca\", \"sao bernardo do campo\", \"sao paul…\n",
      "$ customer_state           \u001b[3m\u001b[90m<chr>\u001b[39m\u001b[23m \"SP\", \"SP\", \"SP\", \"SP\", \"SP\", \"SC\", \"SP\", \"M…\n"
     ]
    }
   ],
   "source": [
    "glimpse(customers)"
   ]
  },
  {
   "cell_type": "code",
   "execution_count": 20,
   "metadata": {},
   "outputs": [
    {
     "data": {
      "text/html": [
       "<table>\n",
       "<caption>A tibble: 0 × 2</caption>\n",
       "<thead>\n",
       "\t<tr><th scope=col>customer_id</th><th scope=col>n</th></tr>\n",
       "\t<tr><th scope=col>&lt;chr&gt;</th><th scope=col>&lt;int&gt;</th></tr>\n",
       "</thead>\n",
       "<tbody>\n",
       "</tbody>\n",
       "</table>\n"
      ],
      "text/latex": [
       "A tibble: 0 × 2\n",
       "\\begin{tabular}{r|ll}\n",
       " customer\\_id & n\\\\\n",
       " <chr> & <int>\\\\\n",
       "\\hline\n",
       "\\end{tabular}\n"
      ],
      "text/markdown": [
       "\n",
       "A tibble: 0 × 2\n",
       "\n",
       "| customer_id &lt;chr&gt; | n &lt;int&gt; |\n",
       "|---|---|\n",
       "\n"
      ],
      "text/plain": [
       "     customer_id n"
      ]
     },
     "metadata": {},
     "output_type": "display_data"
    }
   ],
   "source": [
    "customers %>% \n",
    "  count(customer_id, sort = T) %>% \n",
    "  filter(n > 1) %>% \n",
    "  head()"
   ]
  },
  {
   "cell_type": "code",
   "execution_count": 21,
   "metadata": {},
   "outputs": [
    {
     "data": {
      "text/html": [
       "<table>\n",
       "<caption>A tibble: 6 × 2</caption>\n",
       "<thead>\n",
       "\t<tr><th scope=col>customer_unique_id</th><th scope=col>n</th></tr>\n",
       "\t<tr><th scope=col>&lt;chr&gt;</th><th scope=col>&lt;int&gt;</th></tr>\n",
       "</thead>\n",
       "<tbody>\n",
       "\t<tr><td>8d50f5eadf50201ccdcedfb9e2ac8455</td><td>17</td></tr>\n",
       "\t<tr><td>3e43e6105506432c953e165fb2acf44c</td><td> 9</td></tr>\n",
       "\t<tr><td>1b6c7548a2a1f9037c1fd3ddfed95f33</td><td> 7</td></tr>\n",
       "\t<tr><td>6469f99c1f9dfae7733b25662e7f1782</td><td> 7</td></tr>\n",
       "\t<tr><td>ca77025e7201e3b30c44b472ff346268</td><td> 7</td></tr>\n",
       "\t<tr><td>12f5d6e1cbf93dafd9dcc19095df0b3d</td><td> 6</td></tr>\n",
       "</tbody>\n",
       "</table>\n"
      ],
      "text/latex": [
       "A tibble: 6 × 2\n",
       "\\begin{tabular}{r|ll}\n",
       " customer\\_unique\\_id & n\\\\\n",
       " <chr> & <int>\\\\\n",
       "\\hline\n",
       "\t 8d50f5eadf50201ccdcedfb9e2ac8455 & 17\\\\\n",
       "\t 3e43e6105506432c953e165fb2acf44c &  9\\\\\n",
       "\t 1b6c7548a2a1f9037c1fd3ddfed95f33 &  7\\\\\n",
       "\t 6469f99c1f9dfae7733b25662e7f1782 &  7\\\\\n",
       "\t ca77025e7201e3b30c44b472ff346268 &  7\\\\\n",
       "\t 12f5d6e1cbf93dafd9dcc19095df0b3d &  6\\\\\n",
       "\\end{tabular}\n"
      ],
      "text/markdown": [
       "\n",
       "A tibble: 6 × 2\n",
       "\n",
       "| customer_unique_id &lt;chr&gt; | n &lt;int&gt; |\n",
       "|---|---|\n",
       "| 8d50f5eadf50201ccdcedfb9e2ac8455 | 17 |\n",
       "| 3e43e6105506432c953e165fb2acf44c |  9 |\n",
       "| 1b6c7548a2a1f9037c1fd3ddfed95f33 |  7 |\n",
       "| 6469f99c1f9dfae7733b25662e7f1782 |  7 |\n",
       "| ca77025e7201e3b30c44b472ff346268 |  7 |\n",
       "| 12f5d6e1cbf93dafd9dcc19095df0b3d |  6 |\n",
       "\n"
      ],
      "text/plain": [
       "  customer_unique_id               n \n",
       "1 8d50f5eadf50201ccdcedfb9e2ac8455 17\n",
       "2 3e43e6105506432c953e165fb2acf44c  9\n",
       "3 1b6c7548a2a1f9037c1fd3ddfed95f33  7\n",
       "4 6469f99c1f9dfae7733b25662e7f1782  7\n",
       "5 ca77025e7201e3b30c44b472ff346268  7\n",
       "6 12f5d6e1cbf93dafd9dcc19095df0b3d  6"
      ]
     },
     "metadata": {},
     "output_type": "display_data"
    }
   ],
   "source": [
    "customers %>% \n",
    "  count(customer_unique_id, sort = T) %>% \n",
    "  filter(n > 1) %>% \n",
    "  head()"
   ]
  },
  {
   "cell_type": "code",
   "execution_count": 22,
   "metadata": {},
   "outputs": [
    {
     "data": {
      "text/html": [
       "<table>\n",
       "<caption>A tibble: 6 × 2</caption>\n",
       "<thead>\n",
       "\t<tr><th scope=col>customer_state</th><th scope=col>n</th></tr>\n",
       "\t<tr><th scope=col>&lt;chr&gt;</th><th scope=col>&lt;int&gt;</th></tr>\n",
       "</thead>\n",
       "<tbody>\n",
       "\t<tr><td>SP</td><td>41746</td></tr>\n",
       "\t<tr><td>RJ</td><td>12852</td></tr>\n",
       "\t<tr><td>MG</td><td>11635</td></tr>\n",
       "\t<tr><td>RS</td><td> 5466</td></tr>\n",
       "\t<tr><td>PR</td><td> 5045</td></tr>\n",
       "\t<tr><td>SC</td><td> 3637</td></tr>\n",
       "</tbody>\n",
       "</table>\n"
      ],
      "text/latex": [
       "A tibble: 6 × 2\n",
       "\\begin{tabular}{r|ll}\n",
       " customer\\_state & n\\\\\n",
       " <chr> & <int>\\\\\n",
       "\\hline\n",
       "\t SP & 41746\\\\\n",
       "\t RJ & 12852\\\\\n",
       "\t MG & 11635\\\\\n",
       "\t RS &  5466\\\\\n",
       "\t PR &  5045\\\\\n",
       "\t SC &  3637\\\\\n",
       "\\end{tabular}\n"
      ],
      "text/markdown": [
       "\n",
       "A tibble: 6 × 2\n",
       "\n",
       "| customer_state &lt;chr&gt; | n &lt;int&gt; |\n",
       "|---|---|\n",
       "| SP | 41746 |\n",
       "| RJ | 12852 |\n",
       "| MG | 11635 |\n",
       "| RS |  5466 |\n",
       "| PR |  5045 |\n",
       "| SC |  3637 |\n",
       "\n"
      ],
      "text/plain": [
       "  customer_state n    \n",
       "1 SP             41746\n",
       "2 RJ             12852\n",
       "3 MG             11635\n",
       "4 RS              5466\n",
       "5 PR              5045\n",
       "6 SC              3637"
      ]
     },
     "metadata": {},
     "output_type": "display_data"
    }
   ],
   "source": [
    "customers %>% \n",
    "  count(customer_state, sort = T) %>% \n",
    "  head()"
   ]
  },
  {
   "cell_type": "markdown",
   "metadata": {},
   "source": [
    "## Produtos"
   ]
  },
  {
   "cell_type": "code",
   "execution_count": 23,
   "metadata": {},
   "outputs": [
    {
     "name": "stdout",
     "output_type": "stream",
     "text": [
      "Observations: 32,951\n",
      "Variables: 9\n",
      "$ product_id                 \u001b[3m\u001b[90m<chr>\u001b[39m\u001b[23m \"1e9e8ef04dbcff4541ed26657ea517e5\", \"3aa07…\n",
      "$ product_category_name      \u001b[3m\u001b[90m<chr>\u001b[39m\u001b[23m \"perfumaria\", \"artes\", \"esporte_lazer\", \"b…\n",
      "$ product_name_lenght        \u001b[3m\u001b[90m<int>\u001b[39m\u001b[23m 40, 44, 46, 27, 37, 60, 56, 56, 57, 36, 54…\n",
      "$ product_description_lenght \u001b[3m\u001b[90m<int>\u001b[39m\u001b[23m 287, 276, 250, 261, 402, 745, 1272, 184, 1…\n",
      "$ product_photos_qty         \u001b[3m\u001b[90m<int>\u001b[39m\u001b[23m 1, 1, 1, 1, 4, 1, 4, 2, 1, 1, 1, 4, 3, 2, …\n",
      "$ product_weight_g           \u001b[3m\u001b[90m<int>\u001b[39m\u001b[23m 225, 1000, 154, 371, 625, 200, 18350, 900,…\n",
      "$ product_length_cm          \u001b[3m\u001b[90m<int>\u001b[39m\u001b[23m 16, 30, 18, 26, 20, 38, 70, 40, 27, 17, 16…\n",
      "$ product_height_cm          \u001b[3m\u001b[90m<int>\u001b[39m\u001b[23m 10, 18, 9, 4, 17, 5, 24, 8, 13, 10, 10, 19…\n",
      "$ product_width_cm           \u001b[3m\u001b[90m<int>\u001b[39m\u001b[23m 14, 20, 15, 26, 13, 11, 44, 40, 17, 12, 16…\n"
     ]
    }
   ],
   "source": [
    "glimpse(products)"
   ]
  },
  {
   "cell_type": "code",
   "execution_count": 24,
   "metadata": {},
   "outputs": [
    {
     "data": {
      "text/html": [
       "<table>\n",
       "<caption>A tibble: 6 × 2</caption>\n",
       "<thead>\n",
       "\t<tr><th scope=col>product_category_name</th><th scope=col>n</th></tr>\n",
       "\t<tr><th scope=col>&lt;chr&gt;</th><th scope=col>&lt;int&gt;</th></tr>\n",
       "</thead>\n",
       "<tbody>\n",
       "\t<tr><td>cama_mesa_banho      </td><td>3029</td></tr>\n",
       "\t<tr><td>esporte_lazer        </td><td>2867</td></tr>\n",
       "\t<tr><td>moveis_decoracao     </td><td>2657</td></tr>\n",
       "\t<tr><td>beleza_saude         </td><td>2444</td></tr>\n",
       "\t<tr><td>utilidades_domesticas</td><td>2335</td></tr>\n",
       "\t<tr><td>automotivo           </td><td>1900</td></tr>\n",
       "</tbody>\n",
       "</table>\n"
      ],
      "text/latex": [
       "A tibble: 6 × 2\n",
       "\\begin{tabular}{r|ll}\n",
       " product\\_category\\_name & n\\\\\n",
       " <chr> & <int>\\\\\n",
       "\\hline\n",
       "\t cama\\_mesa\\_banho       & 3029\\\\\n",
       "\t esporte\\_lazer         & 2867\\\\\n",
       "\t moveis\\_decoracao      & 2657\\\\\n",
       "\t beleza\\_saude          & 2444\\\\\n",
       "\t utilidades\\_domesticas & 2335\\\\\n",
       "\t automotivo            & 1900\\\\\n",
       "\\end{tabular}\n"
      ],
      "text/markdown": [
       "\n",
       "A tibble: 6 × 2\n",
       "\n",
       "| product_category_name &lt;chr&gt; | n &lt;int&gt; |\n",
       "|---|---|\n",
       "| cama_mesa_banho       | 3029 |\n",
       "| esporte_lazer         | 2867 |\n",
       "| moveis_decoracao      | 2657 |\n",
       "| beleza_saude          | 2444 |\n",
       "| utilidades_domesticas | 2335 |\n",
       "| automotivo            | 1900 |\n",
       "\n"
      ],
      "text/plain": [
       "  product_category_name n   \n",
       "1 cama_mesa_banho       3029\n",
       "2 esporte_lazer         2867\n",
       "3 moveis_decoracao      2657\n",
       "4 beleza_saude          2444\n",
       "5 utilidades_domesticas 2335\n",
       "6 automotivo            1900"
      ]
     },
     "metadata": {},
     "output_type": "display_data"
    }
   ],
   "source": [
    "products %>% \n",
    "  count(product_category_name, sort = T) %>% \n",
    "  head()"
   ]
  },
  {
   "cell_type": "markdown",
   "metadata": {},
   "source": [
    "## Pedidos"
   ]
  },
  {
   "cell_type": "code",
   "execution_count": 25,
   "metadata": {},
   "outputs": [
    {
     "name": "stdout",
     "output_type": "stream",
     "text": [
      "Observations: 99,441\n",
      "Variables: 8\n",
      "$ order_id                      \u001b[3m\u001b[90m<chr>\u001b[39m\u001b[23m \"e481f51cbdc54678b7cc49136f2d6af7\", \"53…\n",
      "$ customer_id                   \u001b[3m\u001b[90m<chr>\u001b[39m\u001b[23m \"9ef432eb6251297304e76186b10a928d\", \"b0…\n",
      "$ order_status                  \u001b[3m\u001b[90m<chr>\u001b[39m\u001b[23m \"delivered\", \"delivered\", \"delivered\", …\n",
      "$ order_purchase_timestamp      \u001b[3m\u001b[90m<chr>\u001b[39m\u001b[23m \"2017-10-02 10:56:33\", \"2018-07-24 20:4…\n",
      "$ order_approved_at             \u001b[3m\u001b[90m<chr>\u001b[39m\u001b[23m \"2017-10-02 11:07:15\", \"2018-07-26 03:2…\n",
      "$ order_delivered_carrier_date  \u001b[3m\u001b[90m<chr>\u001b[39m\u001b[23m \"2017-10-04 19:55:00\", \"2018-07-26 14:3…\n",
      "$ order_delivered_customer_date \u001b[3m\u001b[90m<chr>\u001b[39m\u001b[23m \"2017-10-10 21:25:13\", \"2018-08-07 15:2…\n",
      "$ order_estimated_delivery_date \u001b[3m\u001b[90m<chr>\u001b[39m\u001b[23m \"2017-10-18 00:00:00\", \"2018-08-13 00:0…\n"
     ]
    }
   ],
   "source": [
    "glimpse(orders)"
   ]
  },
  {
   "cell_type": "code",
   "execution_count": 26,
   "metadata": {},
   "outputs": [
    {
     "data": {
      "text/html": [
       "<table>\n",
       "<caption>A tibble: 8 × 2</caption>\n",
       "<thead>\n",
       "\t<tr><th scope=col>order_status</th><th scope=col>n</th></tr>\n",
       "\t<tr><th scope=col>&lt;chr&gt;</th><th scope=col>&lt;int&gt;</th></tr>\n",
       "</thead>\n",
       "<tbody>\n",
       "\t<tr><td>delivered  </td><td>96478</td></tr>\n",
       "\t<tr><td>shipped    </td><td> 1107</td></tr>\n",
       "\t<tr><td>canceled   </td><td>  625</td></tr>\n",
       "\t<tr><td>unavailable</td><td>  609</td></tr>\n",
       "\t<tr><td>invoiced   </td><td>  314</td></tr>\n",
       "\t<tr><td>processing </td><td>  301</td></tr>\n",
       "\t<tr><td>created    </td><td>    5</td></tr>\n",
       "\t<tr><td>approved   </td><td>    2</td></tr>\n",
       "</tbody>\n",
       "</table>\n"
      ],
      "text/latex": [
       "A tibble: 8 × 2\n",
       "\\begin{tabular}{r|ll}\n",
       " order\\_status & n\\\\\n",
       " <chr> & <int>\\\\\n",
       "\\hline\n",
       "\t delivered   & 96478\\\\\n",
       "\t shipped     &  1107\\\\\n",
       "\t canceled    &   625\\\\\n",
       "\t unavailable &   609\\\\\n",
       "\t invoiced    &   314\\\\\n",
       "\t processing  &   301\\\\\n",
       "\t created     &     5\\\\\n",
       "\t approved    &     2\\\\\n",
       "\\end{tabular}\n"
      ],
      "text/markdown": [
       "\n",
       "A tibble: 8 × 2\n",
       "\n",
       "| order_status &lt;chr&gt; | n &lt;int&gt; |\n",
       "|---|---|\n",
       "| delivered   | 96478 |\n",
       "| shipped     |  1107 |\n",
       "| canceled    |   625 |\n",
       "| unavailable |   609 |\n",
       "| invoiced    |   314 |\n",
       "| processing  |   301 |\n",
       "| created     |     5 |\n",
       "| approved    |     2 |\n",
       "\n"
      ],
      "text/plain": [
       "  order_status n    \n",
       "1 delivered    96478\n",
       "2 shipped       1107\n",
       "3 canceled       625\n",
       "4 unavailable    609\n",
       "5 invoiced       314\n",
       "6 processing     301\n",
       "7 created          5\n",
       "8 approved         2"
      ]
     },
     "metadata": {},
     "output_type": "display_data"
    }
   ],
   "source": [
    "orders %>% \n",
    "  count(order_status, sort = T)"
   ]
  },
  {
   "cell_type": "code",
   "execution_count": 27,
   "metadata": {},
   "outputs": [
    {
     "data": {
      "text/html": [
       "<table>\n",
       "<caption>A tibble: 1 × 2</caption>\n",
       "<thead>\n",
       "\t<tr><th scope=col>Tempo_medio_aprovacao_entrega</th><th scope=col>Tempo_medio_estimado_realizado</th></tr>\n",
       "\t<tr><th scope=col>&lt;dbl&gt;</th><th scope=col>&lt;dbl&gt;</th></tr>\n",
       "</thead>\n",
       "<tbody>\n",
       "\t<tr><td>11.64297</td><td>10.87688</td></tr>\n",
       "</tbody>\n",
       "</table>\n"
      ],
      "text/latex": [
       "A tibble: 1 × 2\n",
       "\\begin{tabular}{r|ll}\n",
       " Tempo\\_medio\\_aprovacao\\_entrega & Tempo\\_medio\\_estimado\\_realizado\\\\\n",
       " <dbl> & <dbl>\\\\\n",
       "\\hline\n",
       "\t 11.64297 & 10.87688\\\\\n",
       "\\end{tabular}\n"
      ],
      "text/markdown": [
       "\n",
       "A tibble: 1 × 2\n",
       "\n",
       "| Tempo_medio_aprovacao_entrega &lt;dbl&gt; | Tempo_medio_estimado_realizado &lt;dbl&gt; |\n",
       "|---|---|\n",
       "| 11.64297 | 10.87688 |\n",
       "\n"
      ],
      "text/plain": [
       "  Tempo_medio_aprovacao_entrega Tempo_medio_estimado_realizado\n",
       "1 11.64297                      10.87688                      "
      ]
     },
     "metadata": {},
     "output_type": "display_data"
    }
   ],
   "source": [
    "orders %>% \n",
    "  mutate_at(vars(4:8), lubridate::as_datetime) %>% \n",
    "  mutate(tempo_aprovacao_entrega = difftime(order_delivered_customer_date, order_approved_at, units = \"days\") %>% \n",
    "           as.numeric() %>% \n",
    "           floor(),\n",
    "         tempo_estimado_realizado = difftime(order_estimated_delivery_date, order_delivered_customer_date, units = \"days\") %>% \n",
    "           as.numeric() %>% \n",
    "           floor()) %>% \n",
    "  as_tibble() %>% \n",
    "  summarise(Tempo_medio_aprovacao_entrega = mean(tempo_aprovacao_entrega, na.rm = T),\n",
    "            Tempo_medio_estimado_realizado = mean(tempo_estimado_realizado, na.rm = T))"
   ]
  },
  {
   "cell_type": "markdown",
   "metadata": {},
   "source": [
    "## Pagamento"
   ]
  },
  {
   "cell_type": "code",
   "execution_count": 28,
   "metadata": {},
   "outputs": [
    {
     "data": {
      "text/plain": [
       "    Min.  1st Qu.   Median     Mean  3rd Qu.     Max. \n",
       "    0.00    56.79   100.00   154.10   171.84 13664.08 "
      ]
     },
     "metadata": {},
     "output_type": "display_data"
    },
    {
     "data": {
      "text/html": [
       "<table>\n",
       "<caption>A tibble: 5 × 2</caption>\n",
       "<thead>\n",
       "\t<tr><th scope=col>payment_type</th><th scope=col>n</th></tr>\n",
       "\t<tr><th scope=col>&lt;chr&gt;</th><th scope=col>&lt;int&gt;</th></tr>\n",
       "</thead>\n",
       "<tbody>\n",
       "\t<tr><td>credit_card</td><td>76795</td></tr>\n",
       "\t<tr><td>boleto     </td><td>19784</td></tr>\n",
       "\t<tr><td>voucher    </td><td> 5775</td></tr>\n",
       "\t<tr><td>debit_card </td><td> 1529</td></tr>\n",
       "\t<tr><td>not_defined</td><td>    3</td></tr>\n",
       "</tbody>\n",
       "</table>\n"
      ],
      "text/latex": [
       "A tibble: 5 × 2\n",
       "\\begin{tabular}{r|ll}\n",
       " payment\\_type & n\\\\\n",
       " <chr> & <int>\\\\\n",
       "\\hline\n",
       "\t credit\\_card & 76795\\\\\n",
       "\t boleto      & 19784\\\\\n",
       "\t voucher     &  5775\\\\\n",
       "\t debit\\_card  &  1529\\\\\n",
       "\t not\\_defined &     3\\\\\n",
       "\\end{tabular}\n"
      ],
      "text/markdown": [
       "\n",
       "A tibble: 5 × 2\n",
       "\n",
       "| payment_type &lt;chr&gt; | n &lt;int&gt; |\n",
       "|---|---|\n",
       "| credit_card | 76795 |\n",
       "| boleto      | 19784 |\n",
       "| voucher     |  5775 |\n",
       "| debit_card  |  1529 |\n",
       "| not_defined |     3 |\n",
       "\n"
      ],
      "text/plain": [
       "  payment_type n    \n",
       "1 credit_card  76795\n",
       "2 boleto       19784\n",
       "3 voucher       5775\n",
       "4 debit_card    1529\n",
       "5 not_defined      3"
      ]
     },
     "metadata": {},
     "output_type": "display_data"
    }
   ],
   "source": [
    "summary(payments$payment_value)\n",
    "\n",
    "payments %>% \n",
    "  count(payment_type, sort = T) %>% \n",
    "  head()\n"
   ]
  },
  {
   "cell_type": "markdown",
   "metadata": {},
   "source": [
    "## Reviews"
   ]
  },
  {
   "cell_type": "code",
   "execution_count": 29,
   "metadata": {},
   "outputs": [
    {
     "name": "stdout",
     "output_type": "stream",
     "text": [
      "Observations: 100,000\n",
      "Variables: 7\n",
      "$ review_id               \u001b[3m\u001b[90m<chr>\u001b[39m\u001b[23m \"7bc2406110b926393aa56f80a40eba40\", \"80e641a1…\n",
      "$ order_id                \u001b[3m\u001b[90m<chr>\u001b[39m\u001b[23m \"73fc7af87114b39712e6da79b0a377eb\", \"a548910a…\n",
      "$ review_score            \u001b[3m\u001b[90m<int>\u001b[39m\u001b[23m 4, 5, 5, 5, 5, 1, 5, 5, 5, 4, 5, 5, 4, 4, 3, …\n",
      "$ review_comment_title    \u001b[3m\u001b[90m<chr>\u001b[39m\u001b[23m \"\", \"\", \"\", \"\", \"\", \"\", \"\", \"\", \"\", \"recomend…\n",
      "$ review_comment_message  \u001b[3m\u001b[90m<chr>\u001b[39m\u001b[23m \"\", \"\", \"\", \"Recebi bem antes do prazo estipu…\n",
      "$ review_creation_date    \u001b[3m\u001b[90m<chr>\u001b[39m\u001b[23m \"2018-01-18 00:00:00\", \"2018-03-10 00:00:00\",…\n",
      "$ review_answer_timestamp \u001b[3m\u001b[90m<chr>\u001b[39m\u001b[23m \"2018-01-18 21:46:59\", \"2018-03-11 03:05:13\",…\n"
     ]
    }
   ],
   "source": [
    "glimpse(reviews) "
   ]
  },
  {
   "cell_type": "code",
   "execution_count": 30,
   "metadata": {},
   "outputs": [
    {
     "data": {
      "text/plain": [
       "   Min. 1st Qu.  Median    Mean 3rd Qu.    Max. \n",
       "  1.000   4.000   5.000   4.071   5.000   5.000 "
      ]
     },
     "metadata": {},
     "output_type": "display_data"
    }
   ],
   "source": [
    "summary(reviews$review_score)\n"
   ]
  },
  {
   "cell_type": "code",
   "execution_count": 31,
   "metadata": {},
   "outputs": [
    {
     "data": {
      "text/html": [
       "<table>\n",
       "<caption>A tibble: 5 × 2</caption>\n",
       "<thead>\n",
       "\t<tr><th scope=col>review_score</th><th scope=col>n</th></tr>\n",
       "\t<tr><th scope=col>&lt;int&gt;</th><th scope=col>&lt;int&gt;</th></tr>\n",
       "</thead>\n",
       "<tbody>\n",
       "\t<tr><td>5</td><td>57420</td></tr>\n",
       "\t<tr><td>4</td><td>19200</td></tr>\n",
       "\t<tr><td>1</td><td>11858</td></tr>\n",
       "\t<tr><td>3</td><td> 8287</td></tr>\n",
       "\t<tr><td>2</td><td> 3235</td></tr>\n",
       "</tbody>\n",
       "</table>\n"
      ],
      "text/latex": [
       "A tibble: 5 × 2\n",
       "\\begin{tabular}{r|ll}\n",
       " review\\_score & n\\\\\n",
       " <int> & <int>\\\\\n",
       "\\hline\n",
       "\t 5 & 57420\\\\\n",
       "\t 4 & 19200\\\\\n",
       "\t 1 & 11858\\\\\n",
       "\t 3 &  8287\\\\\n",
       "\t 2 &  3235\\\\\n",
       "\\end{tabular}\n"
      ],
      "text/markdown": [
       "\n",
       "A tibble: 5 × 2\n",
       "\n",
       "| review_score &lt;int&gt; | n &lt;int&gt; |\n",
       "|---|---|\n",
       "| 5 | 57420 |\n",
       "| 4 | 19200 |\n",
       "| 1 | 11858 |\n",
       "| 3 |  8287 |\n",
       "| 2 |  3235 |\n",
       "\n"
      ],
      "text/plain": [
       "  review_score n    \n",
       "1 5            57420\n",
       "2 4            19200\n",
       "3 1            11858\n",
       "4 3             8287\n",
       "5 2             3235"
      ]
     },
     "metadata": {},
     "output_type": "display_data"
    }
   ],
   "source": [
    "reviews %>% \n",
    "  count(review_score, sort = T) %>% \n",
    "  head()"
   ]
  },
  {
   "cell_type": "markdown",
   "metadata": {},
   "source": [
    "## Vendedores"
   ]
  },
  {
   "cell_type": "code",
   "execution_count": 32,
   "metadata": {},
   "outputs": [
    {
     "name": "stdout",
     "output_type": "stream",
     "text": [
      "Observations: 3,095\n",
      "Variables: 4\n",
      "$ seller_id              \u001b[3m\u001b[90m<chr>\u001b[39m\u001b[23m \"3442f8959a84dea7ee197c632cb2df15\", \"d1b65fc7d…\n",
      "$ seller_zip_code_prefix \u001b[3m\u001b[90m<int>\u001b[39m\u001b[23m 13023, 13844, 20031, 4195, 12914, 20920, 55325…\n",
      "$ seller_city            \u001b[3m\u001b[90m<chr>\u001b[39m\u001b[23m \"campinas\", \"mogi guacu\", \"rio de janeiro\", \"s…\n",
      "$ seller_state           \u001b[3m\u001b[90m<chr>\u001b[39m\u001b[23m \"SP\", \"SP\", \"RJ\", \"SP\", \"SP\", \"RJ\", \"PE\", \"SP\"…\n"
     ]
    }
   ],
   "source": [
    "glimpse(sellers)"
   ]
  },
  {
   "cell_type": "code",
   "execution_count": 33,
   "metadata": {},
   "outputs": [
    {
     "data": {
      "text/html": [
       "<table>\n",
       "<caption>A tibble: 6 × 2</caption>\n",
       "<thead>\n",
       "\t<tr><th scope=col>seller_state</th><th scope=col>n</th></tr>\n",
       "\t<tr><th scope=col>&lt;chr&gt;</th><th scope=col>&lt;int&gt;</th></tr>\n",
       "</thead>\n",
       "<tbody>\n",
       "\t<tr><td>SP</td><td>1849</td></tr>\n",
       "\t<tr><td>PR</td><td> 349</td></tr>\n",
       "\t<tr><td>MG</td><td> 244</td></tr>\n",
       "\t<tr><td>SC</td><td> 190</td></tr>\n",
       "\t<tr><td>RJ</td><td> 171</td></tr>\n",
       "\t<tr><td>RS</td><td> 129</td></tr>\n",
       "</tbody>\n",
       "</table>\n"
      ],
      "text/latex": [
       "A tibble: 6 × 2\n",
       "\\begin{tabular}{r|ll}\n",
       " seller\\_state & n\\\\\n",
       " <chr> & <int>\\\\\n",
       "\\hline\n",
       "\t SP & 1849\\\\\n",
       "\t PR &  349\\\\\n",
       "\t MG &  244\\\\\n",
       "\t SC &  190\\\\\n",
       "\t RJ &  171\\\\\n",
       "\t RS &  129\\\\\n",
       "\\end{tabular}\n"
      ],
      "text/markdown": [
       "\n",
       "A tibble: 6 × 2\n",
       "\n",
       "| seller_state &lt;chr&gt; | n &lt;int&gt; |\n",
       "|---|---|\n",
       "| SP | 1849 |\n",
       "| PR |  349 |\n",
       "| MG |  244 |\n",
       "| SC |  190 |\n",
       "| RJ |  171 |\n",
       "| RS |  129 |\n",
       "\n"
      ],
      "text/plain": [
       "  seller_state n   \n",
       "1 SP           1849\n",
       "2 PR            349\n",
       "3 MG            244\n",
       "4 SC            190\n",
       "5 RJ            171\n",
       "6 RS            129"
      ]
     },
     "metadata": {},
     "output_type": "display_data"
    }
   ],
   "source": [
    "sellers %>% \n",
    "  count(seller_state, sort = T) %>% \n",
    "  head()"
   ]
  },
  {
   "cell_type": "markdown",
   "metadata": {},
   "source": [
    "# Análise de basket"
   ]
  },
  {
   "cell_type": "code",
   "execution_count": 34,
   "metadata": {},
   "outputs": [],
   "source": [
    "dados_basket <- orders %>% \n",
    "  left_join(items, by = \"order_id\") %>% \n",
    "  left_join(products, by = \"product_id\") %>% \n",
    "  as_tibble() %>% \n",
    "  distinct(order_id, product_category_name) %>% \n",
    "  filter(product_category_name != \"\") %>% \n",
    "  group_by(order_id) %>% \n",
    "  filter(n() > 1) %>% \n",
    "  ungroup() %>% \n",
    "  data.table::as.data.table()"
   ]
  },
  {
   "cell_type": "code",
   "execution_count": 35,
   "metadata": {},
   "outputs": [
    {
     "data": {
      "text/html": [
       "<table>\n",
       "<caption>A data.table: 6 × 2</caption>\n",
       "<thead>\n",
       "\t<tr><th scope=col>order_id</th><th scope=col>product_category_name</th></tr>\n",
       "\t<tr><th scope=col>&lt;chr&gt;</th><th scope=col>&lt;chr&gt;</th></tr>\n",
       "</thead>\n",
       "<tbody>\n",
       "\t<tr><td>688052146432ef8253587b930b01a06d</td><td>informatica_acessorios</td></tr>\n",
       "\t<tr><td>688052146432ef8253587b930b01a06d</td><td>malas_acessorios      </td></tr>\n",
       "\t<tr><td>f2fa3795760c35b8c05fa8e2f09d5143</td><td>cama_mesa_banho       </td></tr>\n",
       "\t<tr><td>f2fa3795760c35b8c05fa8e2f09d5143</td><td>moveis_escritorio     </td></tr>\n",
       "\t<tr><td>f4471dae8c482f51aa1826cd9f5d4433</td><td>esporte_lazer         </td></tr>\n",
       "\t<tr><td>f4471dae8c482f51aa1826cd9f5d4433</td><td>beleza_saude          </td></tr>\n",
       "</tbody>\n",
       "</table>\n"
      ],
      "text/latex": [
       "A data.table: 6 × 2\n",
       "\\begin{tabular}{r|ll}\n",
       " order\\_id & product\\_category\\_name\\\\\n",
       " <chr> & <chr>\\\\\n",
       "\\hline\n",
       "\t 688052146432ef8253587b930b01a06d & informatica\\_acessorios\\\\\n",
       "\t 688052146432ef8253587b930b01a06d & malas\\_acessorios      \\\\\n",
       "\t f2fa3795760c35b8c05fa8e2f09d5143 & cama\\_mesa\\_banho       \\\\\n",
       "\t f2fa3795760c35b8c05fa8e2f09d5143 & moveis\\_escritorio     \\\\\n",
       "\t f4471dae8c482f51aa1826cd9f5d4433 & esporte\\_lazer         \\\\\n",
       "\t f4471dae8c482f51aa1826cd9f5d4433 & beleza\\_saude          \\\\\n",
       "\\end{tabular}\n"
      ],
      "text/markdown": [
       "\n",
       "A data.table: 6 × 2\n",
       "\n",
       "| order_id &lt;chr&gt; | product_category_name &lt;chr&gt; |\n",
       "|---|---|\n",
       "| 688052146432ef8253587b930b01a06d | informatica_acessorios |\n",
       "| 688052146432ef8253587b930b01a06d | malas_acessorios       |\n",
       "| f2fa3795760c35b8c05fa8e2f09d5143 | cama_mesa_banho        |\n",
       "| f2fa3795760c35b8c05fa8e2f09d5143 | moveis_escritorio      |\n",
       "| f4471dae8c482f51aa1826cd9f5d4433 | esporte_lazer          |\n",
       "| f4471dae8c482f51aa1826cd9f5d4433 | beleza_saude           |\n",
       "\n"
      ],
      "text/plain": [
       "  order_id                         product_category_name \n",
       "1 688052146432ef8253587b930b01a06d informatica_acessorios\n",
       "2 688052146432ef8253587b930b01a06d malas_acessorios      \n",
       "3 f2fa3795760c35b8c05fa8e2f09d5143 cama_mesa_banho       \n",
       "4 f2fa3795760c35b8c05fa8e2f09d5143 moveis_escritorio     \n",
       "5 f4471dae8c482f51aa1826cd9f5d4433 esporte_lazer         \n",
       "6 f4471dae8c482f51aa1826cd9f5d4433 beleza_saude          "
      ]
     },
     "metadata": {},
     "output_type": "display_data"
    }
   ],
   "source": [
    "dados_basket %>% head()"
   ]
  },
  {
   "cell_type": "code",
   "execution_count": 36,
   "metadata": {},
   "outputs": [
    {
     "name": "stdout",
     "output_type": "stream",
     "text": [
      "Apriori\n",
      "\n",
      "Parameter specification:\n",
      " confidence minval smax arem  aval originalSupport maxtime support minlen\n",
      "      0.025    0.1    1 none FALSE            TRUE       5   5e-04      2\n",
      " maxlen target   ext\n",
      "      2  rules FALSE\n",
      "\n",
      "Algorithmic control:\n",
      " filter tree heap memopt load sort verbose\n",
      "    0.1 TRUE TRUE  FALSE TRUE    2    TRUE\n",
      "\n",
      "Absolute minimum support count: 0 \n",
      "\n",
      "set item appearances ...[0 item(s)] done [0.00s].\n",
      "set transactions ...[61 item(s), 727 transaction(s)] done [0.00s].\n",
      "sorting and recoding items ... [61 item(s)] done [0.00s].\n",
      "creating transaction tree ... done [0.00s].\n",
      "checking subsets of size 1 2"
     ]
    },
    {
     "name": "stderr",
     "output_type": "stream",
     "text": [
      "Warning message in apriori(lista_transacoes, parameter = list(support = 5e-04, confidence = 0.025, :\n",
      "“Mining stopped (maxlen reached). Only patterns up to a length of 2 returned!”"
     ]
    },
    {
     "name": "stdout",
     "output_type": "stream",
     "text": [
      " done [0.00s].\n",
      "writing ... [355 rule(s)] done [0.00s].\n",
      "creating S4 object  ... done [0.00s].\n"
     ]
    },
    {
     "data": {
      "text/plain": [
       "set of 355 rules "
      ]
     },
     "metadata": {},
     "output_type": "display_data"
    }
   ],
   "source": [
    "# Transformando em lista por transações, para realizar basket analysis\n",
    "\n",
    "lista_transacoes <- split(dados_basket[[\"product_category_name\"]], dados_basket[[\"order_id\"]])\n",
    "\n",
    "# require(arules)\n",
    "\n",
    "lista_transacoes <- lista_transacoes %>% \n",
    "    as(\"transactions\")\n",
    "\n",
    "# Minerando regras de associação \n",
    "\n",
    "regras <- apriori(lista_transacoes, parameter = list(support = 0.0005, confidence = 0.025,\n",
    "                                          minlen = 2, maxlen = 2))\n",
    "\n",
    "\n",
    "\n",
    "regras"
   ]
  },
  {
   "cell_type": "code",
   "execution_count": 37,
   "metadata": {},
   "outputs": [
    {
     "name": "stderr",
     "output_type": "stream",
     "text": [
      "Loading required package: reticulate\n"
     ]
    }
   ],
   "source": [
    "require(reticulate)\n",
    "use_python(\"/opt/anaconda3/bin/python3\")"
   ]
  },
  {
   "cell_type": "code",
   "execution_count": 38,
   "metadata": {},
   "outputs": [],
   "source": [
    "\n",
    "aprioripy <- reticulate::import(\"mlxtend.preprocessing\")\n",
    "pandas <- reticulate::import(\"pandas\")"
   ]
  },
  {
   "cell_type": "code",
   "execution_count": 39,
   "metadata": {},
   "outputs": [],
   "source": [
    "te = aprioripy$TransactionEncoder()"
   ]
  },
  {
   "cell_type": "code",
   "execution_count": 40,
   "metadata": {},
   "outputs": [],
   "source": [
    "dataset = pandas$get_dummies(dados_basket$product_category_name)\n",
    "dataset = r_to_py(dataset)\n",
    "#dataset = pandas$DataFrame(dataset)"
   ]
  },
  {
   "cell_type": "code",
   "execution_count": 41,
   "metadata": {},
   "outputs": [],
   "source": [
    "tefit = te$fit(dataset)\n",
    "tefit_transf = tefit$transform(dataset)"
   ]
  },
  {
   "cell_type": "code",
   "execution_count": 42,
   "metadata": {},
   "outputs": [],
   "source": [
    "df = pandas$DataFrame(dataset)"
   ]
  },
  {
   "cell_type": "code",
   "execution_count": 43,
   "metadata": {},
   "outputs": [],
   "source": [
    "apriorip = reticulate::import('mlxtend.frequent_patterns')"
   ]
  },
  {
   "cell_type": "code",
   "execution_count": 44,
   "metadata": {},
   "outputs": [
    {
     "data": {
      "text/html": [
       "<table>\n",
       "<caption>A data.frame: 61 × 2</caption>\n",
       "<thead>\n",
       "\t<tr><th scope=col>support</th><th scope=col>itemsets</th></tr>\n",
       "\t<tr><th scope=col>&lt;dbl&gt;</th><th scope=col>&lt;list&gt;</th></tr>\n",
       "</thead>\n",
       "<tbody>\n",
       "\t<tr><td>0.0054458816</td><td>&lt;environment: 0x556fd85cdc50&gt;</td></tr>\n",
       "\t<tr><td>0.0027229408</td><td>&lt;environment: 0x556fdf0aa6c0&gt;</td></tr>\n",
       "\t<tr><td>0.0040844112</td><td>&lt;environment: 0x556fdf433780&gt;</td></tr>\n",
       "\t<tr><td>0.0013614704</td><td>&lt;environment: 0x556fdf0a2808&gt;</td></tr>\n",
       "\t<tr><td>0.0006807352</td><td>&lt;environment: 0x556fdef08658&gt;</td></tr>\n",
       "\t<tr><td>0.0006807352</td><td>&lt;environment: 0x556fdedb5380&gt;</td></tr>\n",
       "\t<tr><td>0.0040844112</td><td>&lt;environment: 0x556fdea18620&gt;</td></tr>\n",
       "\t<tr><td>0.0238257318</td><td>&lt;environment: 0x556fd87413e0&gt;</td></tr>\n",
       "\t<tr><td>0.0633083730</td><td>&lt;environment: 0x556fdf1ad6f8&gt;</td></tr>\n",
       "\t<tr><td>0.0054458816</td><td>&lt;environment: 0x556fd84416c8&gt;</td></tr>\n",
       "\t<tr><td>0.0476514636</td><td>&lt;environment: 0x556fcbfa2df0&gt;</td></tr>\n",
       "\t<tr><td>0.0340367597</td><td>&lt;environment: 0x556fcbfa7420&gt;</td></tr>\n",
       "\t<tr><td>0.1347855684</td><td>&lt;environment: 0x556fdf3ffe80&gt;</td></tr>\n",
       "\t<tr><td>0.0340367597</td><td>&lt;environment: 0x556fd82f2db8&gt;</td></tr>\n",
       "\t<tr><td>0.0013614704</td><td>&lt;environment: 0x556fde9fed78&gt;</td></tr>\n",
       "\t<tr><td>0.0176991150</td><td>&lt;environment: 0x556fdf10f058&gt;</td></tr>\n",
       "\t<tr><td>0.0013614704</td><td>&lt;environment: 0x556fde9fa5a0&gt;</td></tr>\n",
       "\t<tr><td>0.0013614704</td><td>&lt;environment: 0x556fd369b700&gt;</td></tr>\n",
       "\t<tr><td>0.0054458816</td><td>&lt;environment: 0x556fdb107b50&gt;</td></tr>\n",
       "\t<tr><td>0.0115724983</td><td>&lt;environment: 0x556fdec6e7d8&gt;</td></tr>\n",
       "\t<tr><td>0.0122532335</td><td>&lt;environment: 0x556fd8694268&gt;</td></tr>\n",
       "\t<tr><td>0.0061266167</td><td>&lt;environment: 0x556fd868a818&gt;</td></tr>\n",
       "\t<tr><td>0.0047651464</td><td>&lt;environment: 0x556fd8682d20&gt;</td></tr>\n",
       "\t<tr><td>0.0449285228</td><td>&lt;environment: 0x556fd866f730&gt;</td></tr>\n",
       "\t<tr><td>0.0013614704</td><td>&lt;environment: 0x556fd8665ce0&gt;</td></tr>\n",
       "\t<tr><td>0.0006807352</td><td>&lt;environment: 0x556fd86526f0&gt;</td></tr>\n",
       "\t<tr><td>0.0156569095</td><td>&lt;environment: 0x556fcb0fa758&gt;</td></tr>\n",
       "\t<tr><td>0.0040844112</td><td>&lt;environment: 0x556fcb190548&gt;</td></tr>\n",
       "\t<tr><td>0.0456092580</td><td>&lt;environment: 0x556fcb6f9798&gt;</td></tr>\n",
       "\t<tr><td>0.0074880871</td><td>&lt;environment: 0x556fcb797240&gt;</td></tr>\n",
       "\t<tr><td>⋮</td><td>⋮</td></tr>\n",
       "\t<tr><td>0.0013614704</td><td>&lt;environment: 0x556fcc08cd78&gt;</td></tr>\n",
       "\t<tr><td>0.0006807352</td><td>&lt;environment: 0x556fcc82e048&gt;</td></tr>\n",
       "\t<tr><td>0.0013614704</td><td>&lt;environment: 0x556fcc972f78&gt;</td></tr>\n",
       "\t<tr><td>0.0496936692</td><td>&lt;environment: 0x556fd4e4d578&gt;</td></tr>\n",
       "\t<tr><td>0.0013614704</td><td>&lt;environment: 0x556fd34b2e40&gt;</td></tr>\n",
       "\t<tr><td>0.0027229408</td><td>&lt;environment: 0x556fd34ff878&gt;</td></tr>\n",
       "\t<tr><td>0.0347174949</td><td>&lt;environment: 0x556fd354bd38&gt;</td></tr>\n",
       "\t<tr><td>0.0047651464</td><td>&lt;environment: 0x556fd358ee40&gt;</td></tr>\n",
       "\t<tr><td>0.0013614704</td><td>&lt;environment: 0x556fd36feb70&gt;</td></tr>\n",
       "\t<tr><td>0.0034036760</td><td>&lt;environment: 0x556fd7cfc270&gt;</td></tr>\n",
       "\t<tr><td>0.0027229408</td><td>&lt;environment: 0x556fd7dc2a90&gt;</td></tr>\n",
       "\t<tr><td>0.0102110279</td><td>&lt;environment: 0x556fd7dce6a0&gt;</td></tr>\n",
       "\t<tr><td>0.0081688223</td><td>&lt;environment: 0x556fcbac5e08&gt;</td></tr>\n",
       "\t<tr><td>0.0040844112</td><td>&lt;environment: 0x556fcbb1fcb0&gt;</td></tr>\n",
       "\t<tr><td>0.1381892444</td><td>&lt;environment: 0x556fcbbcb850&gt;</td></tr>\n",
       "\t<tr><td>0.0102110279</td><td>&lt;environment: 0x556fd8127470&gt;</td></tr>\n",
       "\t<tr><td>0.0020422056</td><td>&lt;environment: 0x556fd82bdc00&gt;</td></tr>\n",
       "\t<tr><td>0.0102110279</td><td>&lt;environment: 0x556fd83253e0&gt;</td></tr>\n",
       "\t<tr><td>0.0013614704</td><td>&lt;environment: 0x556fd84905c8&gt;</td></tr>\n",
       "\t<tr><td>0.0211027910</td><td>&lt;environment: 0x556fd84a82d0&gt;</td></tr>\n",
       "\t<tr><td>0.0006807352</td><td>&lt;environment: 0x556fd84c9f30&gt;</td></tr>\n",
       "\t<tr><td>0.0006807352</td><td>&lt;environment: 0x556fd8531720&gt;</td></tr>\n",
       "\t<tr><td>0.0176991150</td><td>&lt;environment: 0x556fd86a6930&gt;</td></tr>\n",
       "\t<tr><td>0.0068073519</td><td>&lt;environment: 0x556fcbdfabe0&gt;</td></tr>\n",
       "\t<tr><td>0.0272294078</td><td>&lt;environment: 0x556fcbe04908&gt;</td></tr>\n",
       "\t<tr><td>0.0006807352</td><td>&lt;environment: 0x556fcbef6d98&gt;</td></tr>\n",
       "\t<tr><td>0.0020422056</td><td>&lt;environment: 0x556fcbefeb68&gt;</td></tr>\n",
       "\t<tr><td>0.0183798502</td><td>&lt;environment: 0x556fd8110f90&gt;</td></tr>\n",
       "\t<tr><td>0.0013614704</td><td>&lt;environment: 0x556fd811ac80&gt;</td></tr>\n",
       "\t<tr><td>0.0694349898</td><td>&lt;environment: 0x556fd8124970&gt;</td></tr>\n",
       "</tbody>\n",
       "</table>\n"
      ],
      "text/latex": [
       "A data.frame: 61 × 2\n",
       "\\begin{tabular}{r|ll}\n",
       " support & itemsets\\\\\n",
       " <dbl> & <list>\\\\\n",
       "\\hline\n",
       "\t 0.0054458816 & <environment: 0x556fd85cdc50>\\\\\n",
       "\t 0.0027229408 & <environment: 0x556fdf0aa6c0>\\\\\n",
       "\t 0.0040844112 & <environment: 0x556fdf433780>\\\\\n",
       "\t 0.0013614704 & <environment: 0x556fdf0a2808>\\\\\n",
       "\t 0.0006807352 & <environment: 0x556fdef08658>\\\\\n",
       "\t 0.0006807352 & <environment: 0x556fdedb5380>\\\\\n",
       "\t 0.0040844112 & <environment: 0x556fdea18620>\\\\\n",
       "\t 0.0238257318 & <environment: 0x556fd87413e0>\\\\\n",
       "\t 0.0633083730 & <environment: 0x556fdf1ad6f8>\\\\\n",
       "\t 0.0054458816 & <environment: 0x556fd84416c8>\\\\\n",
       "\t 0.0476514636 & <environment: 0x556fcbfa2df0>\\\\\n",
       "\t 0.0340367597 & <environment: 0x556fcbfa7420>\\\\\n",
       "\t 0.1347855684 & <environment: 0x556fdf3ffe80>\\\\\n",
       "\t 0.0340367597 & <environment: 0x556fd82f2db8>\\\\\n",
       "\t 0.0013614704 & <environment: 0x556fde9fed78>\\\\\n",
       "\t 0.0176991150 & <environment: 0x556fdf10f058>\\\\\n",
       "\t 0.0013614704 & <environment: 0x556fde9fa5a0>\\\\\n",
       "\t 0.0013614704 & <environment: 0x556fd369b700>\\\\\n",
       "\t 0.0054458816 & <environment: 0x556fdb107b50>\\\\\n",
       "\t 0.0115724983 & <environment: 0x556fdec6e7d8>\\\\\n",
       "\t 0.0122532335 & <environment: 0x556fd8694268>\\\\\n",
       "\t 0.0061266167 & <environment: 0x556fd868a818>\\\\\n",
       "\t 0.0047651464 & <environment: 0x556fd8682d20>\\\\\n",
       "\t 0.0449285228 & <environment: 0x556fd866f730>\\\\\n",
       "\t 0.0013614704 & <environment: 0x556fd8665ce0>\\\\\n",
       "\t 0.0006807352 & <environment: 0x556fd86526f0>\\\\\n",
       "\t 0.0156569095 & <environment: 0x556fcb0fa758>\\\\\n",
       "\t 0.0040844112 & <environment: 0x556fcb190548>\\\\\n",
       "\t 0.0456092580 & <environment: 0x556fcb6f9798>\\\\\n",
       "\t 0.0074880871 & <environment: 0x556fcb797240>\\\\\n",
       "\t ⋮ & ⋮\\\\\n",
       "\t 0.0013614704 & <environment: 0x556fcc08cd78>\\\\\n",
       "\t 0.0006807352 & <environment: 0x556fcc82e048>\\\\\n",
       "\t 0.0013614704 & <environment: 0x556fcc972f78>\\\\\n",
       "\t 0.0496936692 & <environment: 0x556fd4e4d578>\\\\\n",
       "\t 0.0013614704 & <environment: 0x556fd34b2e40>\\\\\n",
       "\t 0.0027229408 & <environment: 0x556fd34ff878>\\\\\n",
       "\t 0.0347174949 & <environment: 0x556fd354bd38>\\\\\n",
       "\t 0.0047651464 & <environment: 0x556fd358ee40>\\\\\n",
       "\t 0.0013614704 & <environment: 0x556fd36feb70>\\\\\n",
       "\t 0.0034036760 & <environment: 0x556fd7cfc270>\\\\\n",
       "\t 0.0027229408 & <environment: 0x556fd7dc2a90>\\\\\n",
       "\t 0.0102110279 & <environment: 0x556fd7dce6a0>\\\\\n",
       "\t 0.0081688223 & <environment: 0x556fcbac5e08>\\\\\n",
       "\t 0.0040844112 & <environment: 0x556fcbb1fcb0>\\\\\n",
       "\t 0.1381892444 & <environment: 0x556fcbbcb850>\\\\\n",
       "\t 0.0102110279 & <environment: 0x556fd8127470>\\\\\n",
       "\t 0.0020422056 & <environment: 0x556fd82bdc00>\\\\\n",
       "\t 0.0102110279 & <environment: 0x556fd83253e0>\\\\\n",
       "\t 0.0013614704 & <environment: 0x556fd84905c8>\\\\\n",
       "\t 0.0211027910 & <environment: 0x556fd84a82d0>\\\\\n",
       "\t 0.0006807352 & <environment: 0x556fd84c9f30>\\\\\n",
       "\t 0.0006807352 & <environment: 0x556fd8531720>\\\\\n",
       "\t 0.0176991150 & <environment: 0x556fd86a6930>\\\\\n",
       "\t 0.0068073519 & <environment: 0x556fcbdfabe0>\\\\\n",
       "\t 0.0272294078 & <environment: 0x556fcbe04908>\\\\\n",
       "\t 0.0006807352 & <environment: 0x556fcbef6d98>\\\\\n",
       "\t 0.0020422056 & <environment: 0x556fcbefeb68>\\\\\n",
       "\t 0.0183798502 & <environment: 0x556fd8110f90>\\\\\n",
       "\t 0.0013614704 & <environment: 0x556fd811ac80>\\\\\n",
       "\t 0.0694349898 & <environment: 0x556fd8124970>\\\\\n",
       "\\end{tabular}\n"
      ],
      "text/markdown": [
       "\n",
       "A data.frame: 61 × 2\n",
       "\n",
       "| support &lt;dbl&gt; | itemsets &lt;list&gt; |\n",
       "|---|---|\n",
       "| 0.0054458816 | &lt;environment: 0x556fd85cdc50&gt; |\n",
       "| 0.0027229408 | &lt;environment: 0x556fdf0aa6c0&gt; |\n",
       "| 0.0040844112 | &lt;environment: 0x556fdf433780&gt; |\n",
       "| 0.0013614704 | &lt;environment: 0x556fdf0a2808&gt; |\n",
       "| 0.0006807352 | &lt;environment: 0x556fdef08658&gt; |\n",
       "| 0.0006807352 | &lt;environment: 0x556fdedb5380&gt; |\n",
       "| 0.0040844112 | &lt;environment: 0x556fdea18620&gt; |\n",
       "| 0.0238257318 | &lt;environment: 0x556fd87413e0&gt; |\n",
       "| 0.0633083730 | &lt;environment: 0x556fdf1ad6f8&gt; |\n",
       "| 0.0054458816 | &lt;environment: 0x556fd84416c8&gt; |\n",
       "| 0.0476514636 | &lt;environment: 0x556fcbfa2df0&gt; |\n",
       "| 0.0340367597 | &lt;environment: 0x556fcbfa7420&gt; |\n",
       "| 0.1347855684 | &lt;environment: 0x556fdf3ffe80&gt; |\n",
       "| 0.0340367597 | &lt;environment: 0x556fd82f2db8&gt; |\n",
       "| 0.0013614704 | &lt;environment: 0x556fde9fed78&gt; |\n",
       "| 0.0176991150 | &lt;environment: 0x556fdf10f058&gt; |\n",
       "| 0.0013614704 | &lt;environment: 0x556fde9fa5a0&gt; |\n",
       "| 0.0013614704 | &lt;environment: 0x556fd369b700&gt; |\n",
       "| 0.0054458816 | &lt;environment: 0x556fdb107b50&gt; |\n",
       "| 0.0115724983 | &lt;environment: 0x556fdec6e7d8&gt; |\n",
       "| 0.0122532335 | &lt;environment: 0x556fd8694268&gt; |\n",
       "| 0.0061266167 | &lt;environment: 0x556fd868a818&gt; |\n",
       "| 0.0047651464 | &lt;environment: 0x556fd8682d20&gt; |\n",
       "| 0.0449285228 | &lt;environment: 0x556fd866f730&gt; |\n",
       "| 0.0013614704 | &lt;environment: 0x556fd8665ce0&gt; |\n",
       "| 0.0006807352 | &lt;environment: 0x556fd86526f0&gt; |\n",
       "| 0.0156569095 | &lt;environment: 0x556fcb0fa758&gt; |\n",
       "| 0.0040844112 | &lt;environment: 0x556fcb190548&gt; |\n",
       "| 0.0456092580 | &lt;environment: 0x556fcb6f9798&gt; |\n",
       "| 0.0074880871 | &lt;environment: 0x556fcb797240&gt; |\n",
       "| ⋮ | ⋮ |\n",
       "| 0.0013614704 | &lt;environment: 0x556fcc08cd78&gt; |\n",
       "| 0.0006807352 | &lt;environment: 0x556fcc82e048&gt; |\n",
       "| 0.0013614704 | &lt;environment: 0x556fcc972f78&gt; |\n",
       "| 0.0496936692 | &lt;environment: 0x556fd4e4d578&gt; |\n",
       "| 0.0013614704 | &lt;environment: 0x556fd34b2e40&gt; |\n",
       "| 0.0027229408 | &lt;environment: 0x556fd34ff878&gt; |\n",
       "| 0.0347174949 | &lt;environment: 0x556fd354bd38&gt; |\n",
       "| 0.0047651464 | &lt;environment: 0x556fd358ee40&gt; |\n",
       "| 0.0013614704 | &lt;environment: 0x556fd36feb70&gt; |\n",
       "| 0.0034036760 | &lt;environment: 0x556fd7cfc270&gt; |\n",
       "| 0.0027229408 | &lt;environment: 0x556fd7dc2a90&gt; |\n",
       "| 0.0102110279 | &lt;environment: 0x556fd7dce6a0&gt; |\n",
       "| 0.0081688223 | &lt;environment: 0x556fcbac5e08&gt; |\n",
       "| 0.0040844112 | &lt;environment: 0x556fcbb1fcb0&gt; |\n",
       "| 0.1381892444 | &lt;environment: 0x556fcbbcb850&gt; |\n",
       "| 0.0102110279 | &lt;environment: 0x556fd8127470&gt; |\n",
       "| 0.0020422056 | &lt;environment: 0x556fd82bdc00&gt; |\n",
       "| 0.0102110279 | &lt;environment: 0x556fd83253e0&gt; |\n",
       "| 0.0013614704 | &lt;environment: 0x556fd84905c8&gt; |\n",
       "| 0.0211027910 | &lt;environment: 0x556fd84a82d0&gt; |\n",
       "| 0.0006807352 | &lt;environment: 0x556fd84c9f30&gt; |\n",
       "| 0.0006807352 | &lt;environment: 0x556fd8531720&gt; |\n",
       "| 0.0176991150 | &lt;environment: 0x556fd86a6930&gt; |\n",
       "| 0.0068073519 | &lt;environment: 0x556fcbdfabe0&gt; |\n",
       "| 0.0272294078 | &lt;environment: 0x556fcbe04908&gt; |\n",
       "| 0.0006807352 | &lt;environment: 0x556fcbef6d98&gt; |\n",
       "| 0.0020422056 | &lt;environment: 0x556fcbefeb68&gt; |\n",
       "| 0.0183798502 | &lt;environment: 0x556fd8110f90&gt; |\n",
       "| 0.0013614704 | &lt;environment: 0x556fd811ac80&gt; |\n",
       "| 0.0694349898 | &lt;environment: 0x556fd8124970&gt; |\n",
       "\n"
      ],
      "text/plain": [
       "   support      itemsets                     \n",
       "1  0.0054458816 <environment: 0x556fd85cdc50>\n",
       "2  0.0027229408 <environment: 0x556fdf0aa6c0>\n",
       "3  0.0040844112 <environment: 0x556fdf433780>\n",
       "4  0.0013614704 <environment: 0x556fdf0a2808>\n",
       "5  0.0006807352 <environment: 0x556fdef08658>\n",
       "6  0.0006807352 <environment: 0x556fdedb5380>\n",
       "7  0.0040844112 <environment: 0x556fdea18620>\n",
       "8  0.0238257318 <environment: 0x556fd87413e0>\n",
       "9  0.0633083730 <environment: 0x556fdf1ad6f8>\n",
       "10 0.0054458816 <environment: 0x556fd84416c8>\n",
       "11 0.0476514636 <environment: 0x556fcbfa2df0>\n",
       "12 0.0340367597 <environment: 0x556fcbfa7420>\n",
       "13 0.1347855684 <environment: 0x556fdf3ffe80>\n",
       "14 0.0340367597 <environment: 0x556fd82f2db8>\n",
       "15 0.0013614704 <environment: 0x556fde9fed78>\n",
       "16 0.0176991150 <environment: 0x556fdf10f058>\n",
       "17 0.0013614704 <environment: 0x556fde9fa5a0>\n",
       "18 0.0013614704 <environment: 0x556fd369b700>\n",
       "19 0.0054458816 <environment: 0x556fdb107b50>\n",
       "20 0.0115724983 <environment: 0x556fdec6e7d8>\n",
       "21 0.0122532335 <environment: 0x556fd8694268>\n",
       "22 0.0061266167 <environment: 0x556fd868a818>\n",
       "23 0.0047651464 <environment: 0x556fd8682d20>\n",
       "24 0.0449285228 <environment: 0x556fd866f730>\n",
       "25 0.0013614704 <environment: 0x556fd8665ce0>\n",
       "26 0.0006807352 <environment: 0x556fd86526f0>\n",
       "27 0.0156569095 <environment: 0x556fcb0fa758>\n",
       "28 0.0040844112 <environment: 0x556fcb190548>\n",
       "29 0.0456092580 <environment: 0x556fcb6f9798>\n",
       "30 0.0074880871 <environment: 0x556fcb797240>\n",
       "⋮  ⋮            ⋮                            \n",
       "32 0.0013614704 <environment: 0x556fcc08cd78>\n",
       "33 0.0006807352 <environment: 0x556fcc82e048>\n",
       "34 0.0013614704 <environment: 0x556fcc972f78>\n",
       "35 0.0496936692 <environment: 0x556fd4e4d578>\n",
       "36 0.0013614704 <environment: 0x556fd34b2e40>\n",
       "37 0.0027229408 <environment: 0x556fd34ff878>\n",
       "38 0.0347174949 <environment: 0x556fd354bd38>\n",
       "39 0.0047651464 <environment: 0x556fd358ee40>\n",
       "40 0.0013614704 <environment: 0x556fd36feb70>\n",
       "41 0.0034036760 <environment: 0x556fd7cfc270>\n",
       "42 0.0027229408 <environment: 0x556fd7dc2a90>\n",
       "43 0.0102110279 <environment: 0x556fd7dce6a0>\n",
       "44 0.0081688223 <environment: 0x556fcbac5e08>\n",
       "45 0.0040844112 <environment: 0x556fcbb1fcb0>\n",
       "46 0.1381892444 <environment: 0x556fcbbcb850>\n",
       "47 0.0102110279 <environment: 0x556fd8127470>\n",
       "48 0.0020422056 <environment: 0x556fd82bdc00>\n",
       "49 0.0102110279 <environment: 0x556fd83253e0>\n",
       "50 0.0013614704 <environment: 0x556fd84905c8>\n",
       "51 0.0211027910 <environment: 0x556fd84a82d0>\n",
       "52 0.0006807352 <environment: 0x556fd84c9f30>\n",
       "53 0.0006807352 <environment: 0x556fd8531720>\n",
       "54 0.0176991150 <environment: 0x556fd86a6930>\n",
       "55 0.0068073519 <environment: 0x556fcbdfabe0>\n",
       "56 0.0272294078 <environment: 0x556fcbe04908>\n",
       "57 0.0006807352 <environment: 0x556fcbef6d98>\n",
       "58 0.0020422056 <environment: 0x556fcbefeb68>\n",
       "59 0.0183798502 <environment: 0x556fd8110f90>\n",
       "60 0.0013614704 <environment: 0x556fd811ac80>\n",
       "61 0.0694349898 <environment: 0x556fd8124970>"
      ]
     },
     "metadata": {},
     "output_type": "display_data"
    }
   ],
   "source": [
    "apriorip$apriori(df, use_colnames = 'True', min_support = 0.00001,  verbose = 1, max_len = 2)"
   ]
  },
  {
   "cell_type": "raw",
   "metadata": {},
   "source": [
    "https://github.com/conda-forge/mlxtend-feedstock"
   ]
  },
  {
   "cell_type": "raw",
   "metadata": {},
   "source": [
    "!conda config --add channels conda-forge"
   ]
  },
  {
   "cell_type": "raw",
   "metadata": {},
   "source": [
    "!conda install mlxtend"
   ]
  },
  {
   "cell_type": "code",
   "execution_count": 45,
   "metadata": {},
   "outputs": [],
   "source": [
    "redundant <- which(colSums(is.subset(regras, regras)) > 1)\n",
    "regras <- regras[-redundant]"
   ]
  },
  {
   "cell_type": "code",
   "execution_count": 46,
   "metadata": {},
   "outputs": [
    {
     "data": {
      "text/plain": [
       "set of 109 rules "
      ]
     },
     "metadata": {},
     "output_type": "display_data"
    }
   ],
   "source": [
    "regras"
   ]
  },
  {
   "cell_type": "code",
   "execution_count": 47,
   "metadata": {},
   "outputs": [
    {
     "data": {
      "text/html": [
       "<table>\n",
       "<caption>A tibble: 6 × 6</caption>\n",
       "<thead>\n",
       "\t<tr><th scope=col>Antecedente</th><th scope=col>Consequente</th><th scope=col>support</th><th scope=col>confidence</th><th scope=col>lift</th><th scope=col>count</th></tr>\n",
       "\t<tr><th scope=col>&lt;chr&gt;</th><th scope=col>&lt;chr&gt;</th><th scope=col>&lt;dbl&gt;</th><th scope=col>&lt;dbl&gt;</th><th scope=col>&lt;dbl&gt;</th><th scope=col>&lt;dbl&gt;</th></tr>\n",
       "</thead>\n",
       "<tbody>\n",
       "\t<tr><td>pc_gamer                </td><td> cool_stuff            </td><td>0.001375516</td><td>1.0</td><td>11.015152</td><td>1</td></tr>\n",
       "\t<tr><td>fashion_calcados        </td><td> bebes                 </td><td>0.002751032</td><td>1.0</td><td> 7.817204</td><td>2</td></tr>\n",
       "\t<tr><td>sinalizacao_e_seguranca </td><td> bebes                 </td><td>0.001375516</td><td>1.0</td><td> 7.817204</td><td>1</td></tr>\n",
       "\t<tr><td>artes_e_artesanato      </td><td> brinquedos            </td><td>0.001375516</td><td>0.5</td><td> 7.270000</td><td>1</td></tr>\n",
       "\t<tr><td>dvds_blu_ray            </td><td> informatica_acessorios</td><td>0.001375516</td><td>0.5</td><td> 7.127451</td><td>1</td></tr>\n",
       "\t<tr><td>climatizacao            </td><td> informatica_acessorios</td><td>0.001375516</td><td>0.5</td><td> 7.127451</td><td>1</td></tr>\n",
       "</tbody>\n",
       "</table>\n"
      ],
      "text/latex": [
       "A tibble: 6 × 6\n",
       "\\begin{tabular}{r|llllll}\n",
       " Antecedente & Consequente & support & confidence & lift & count\\\\\n",
       " <chr> & <chr> & <dbl> & <dbl> & <dbl> & <dbl>\\\\\n",
       "\\hline\n",
       "\t pc\\_gamer                 &  cool\\_stuff             & 0.001375516 & 1.0 & 11.015152 & 1\\\\\n",
       "\t fashion\\_calcados         &  bebes                  & 0.002751032 & 1.0 &  7.817204 & 2\\\\\n",
       "\t sinalizacao\\_e\\_seguranca  &  bebes                  & 0.001375516 & 1.0 &  7.817204 & 1\\\\\n",
       "\t artes\\_e\\_artesanato       &  brinquedos             & 0.001375516 & 0.5 &  7.270000 & 1\\\\\n",
       "\t dvds\\_blu\\_ray             &  informatica\\_acessorios & 0.001375516 & 0.5 &  7.127451 & 1\\\\\n",
       "\t climatizacao             &  informatica\\_acessorios & 0.001375516 & 0.5 &  7.127451 & 1\\\\\n",
       "\\end{tabular}\n"
      ],
      "text/markdown": [
       "\n",
       "A tibble: 6 × 6\n",
       "\n",
       "| Antecedente &lt;chr&gt; | Consequente &lt;chr&gt; | support &lt;dbl&gt; | confidence &lt;dbl&gt; | lift &lt;dbl&gt; | count &lt;dbl&gt; |\n",
       "|---|---|---|---|---|---|\n",
       "| pc_gamer                 |  cool_stuff             | 0.001375516 | 1.0 | 11.015152 | 1 |\n",
       "| fashion_calcados         |  bebes                  | 0.002751032 | 1.0 |  7.817204 | 2 |\n",
       "| sinalizacao_e_seguranca  |  bebes                  | 0.001375516 | 1.0 |  7.817204 | 1 |\n",
       "| artes_e_artesanato       |  brinquedos             | 0.001375516 | 0.5 |  7.270000 | 1 |\n",
       "| dvds_blu_ray             |  informatica_acessorios | 0.001375516 | 0.5 |  7.127451 | 1 |\n",
       "| climatizacao             |  informatica_acessorios | 0.001375516 | 0.5 |  7.127451 | 1 |\n",
       "\n"
      ],
      "text/plain": [
       "  Antecedente              Consequente             support     confidence\n",
       "1 pc_gamer                  cool_stuff             0.001375516 1.0       \n",
       "2 fashion_calcados          bebes                  0.002751032 1.0       \n",
       "3 sinalizacao_e_seguranca   bebes                  0.001375516 1.0       \n",
       "4 artes_e_artesanato        brinquedos             0.001375516 0.5       \n",
       "5 dvds_blu_ray              informatica_acessorios 0.001375516 0.5       \n",
       "6 climatizacao              informatica_acessorios 0.001375516 0.5       \n",
       "  lift      count\n",
       "1 11.015152 1    \n",
       "2  7.817204 2    \n",
       "3  7.817204 1    \n",
       "4  7.270000 1    \n",
       "5  7.127451 1    \n",
       "6  7.127451 1    "
      ]
     },
     "metadata": {},
     "output_type": "display_data"
    }
   ],
   "source": [
    "\n",
    "# \n",
    "basket <- regras %>% \n",
    "  as(\"data.frame\")\n",
    "\n",
    "basket <- basket %>% \n",
    "  tidyr::separate(rules, into = c(\"Antecedente\", \"Consequente\"), sep = \"=>\") %>% \n",
    "  mutate_at(vars(1:2), function(x){stringr::str_remove_all(x, \"\\\\{\") %>% \n",
    "      stringr::str_remove_all(\"\\\\}\")}) %>% \n",
    "  arrange(-lift, -support, -confidence) %>%\n",
    "  as_tibble()\n",
    "\n",
    "basket  %>% \n",
    "  head()\n"
   ]
  },
  {
   "cell_type": "code",
   "execution_count": null,
   "metadata": {},
   "outputs": [],
   "source": []
  }
 ],
 "metadata": {
  "kernelspec": {
   "display_name": "R",
   "language": "R",
   "name": "ir"
  },
  "language_info": {
   "codemirror_mode": "r",
   "file_extension": ".r",
   "mimetype": "text/x-r-source",
   "name": "R",
   "pygments_lexer": "r",
   "version": "3.5.3"
  }
 },
 "nbformat": 4,
 "nbformat_minor": 2
}
