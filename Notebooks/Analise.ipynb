{
 "cells": [
  {
   "cell_type": "code",
   "execution_count": 1,
   "metadata": {},
   "outputs": [],
   "source": [
    "source(\"../Code/importa_dados.R\")"
   ]
  },
  {
   "cell_type": "markdown",
   "metadata": {},
   "source": [
    "## Ativação dos pacotes necessários:"
   ]
  },
  {
   "cell_type": "code",
   "execution_count": 2,
   "metadata": {},
   "outputs": [
    {
     "name": "stderr",
     "output_type": "stream",
     "text": [
      "── \u001b[1mAttaching packages\u001b[22m ─────────────────────────────────────── tidyverse 1.2.1 ──\n",
      "\u001b[32m✔\u001b[39m \u001b[34mggplot2\u001b[39m 3.1.1       \u001b[32m✔\u001b[39m \u001b[34mpurrr  \u001b[39m 0.3.2  \n",
      "\u001b[32m✔\u001b[39m \u001b[34mtibble \u001b[39m 2.1.1       \u001b[32m✔\u001b[39m \u001b[34mdplyr  \u001b[39m 0.8.0.\u001b[31m1\u001b[39m\n",
      "\u001b[32m✔\u001b[39m \u001b[34mtidyr  \u001b[39m 0.8.3       \u001b[32m✔\u001b[39m \u001b[34mstringr\u001b[39m 1.4.0  \n",
      "\u001b[32m✔\u001b[39m \u001b[34mreadr  \u001b[39m 1.3.1       \u001b[32m✔\u001b[39m \u001b[34mforcats\u001b[39m 0.4.0  \n",
      "── \u001b[1mConflicts\u001b[22m ────────────────────────────────────────── tidyverse_conflicts() ──\n",
      "\u001b[31m✖\u001b[39m \u001b[34mdplyr\u001b[39m::\u001b[32mfilter()\u001b[39m masks \u001b[34mstats\u001b[39m::filter()\n",
      "\u001b[31m✖\u001b[39m \u001b[34mdplyr\u001b[39m::\u001b[32mlag()\u001b[39m    masks \u001b[34mstats\u001b[39m::lag()\n",
      "Loading required package: data.table\n",
      "\n",
      "Attaching package: ‘data.table’\n",
      "\n",
      "The following objects are masked from ‘package:dplyr’:\n",
      "\n",
      "    between, first, last\n",
      "\n",
      "The following object is masked from ‘package:purrr’:\n",
      "\n",
      "    transpose\n",
      "\n",
      "Loading required package: arules\n",
      "Loading required package: Matrix\n",
      "\n",
      "Attaching package: ‘Matrix’\n",
      "\n",
      "The following object is masked from ‘package:tidyr’:\n",
      "\n",
      "    expand\n",
      "\n",
      "\n",
      "Attaching package: ‘arules’\n",
      "\n",
      "The following object is masked from ‘package:dplyr’:\n",
      "\n",
      "    recode\n",
      "\n",
      "The following objects are masked from ‘package:base’:\n",
      "\n",
      "    abbreviate, write\n",
      "\n"
     ]
    }
   ],
   "source": [
    "require(tidyverse, quietly = T)\n",
    "require(data.table)\n",
    "require(arules)"
   ]
  },
  {
   "cell_type": "markdown",
   "metadata": {},
   "source": [
    "## Clientes"
   ]
  },
  {
   "cell_type": "code",
   "execution_count": 3,
   "metadata": {},
   "outputs": [
    {
     "name": "stdout",
     "output_type": "stream",
     "text": [
      "Observations: 99,441\n",
      "Variables: 5\n",
      "$ customer_id              \u001b[3m\u001b[90m<chr>\u001b[39m\u001b[23m \"06b8999e2fba1a1fbc88172c00ba8bc7\", \"18955e8…\n",
      "$ customer_unique_id       \u001b[3m\u001b[90m<chr>\u001b[39m\u001b[23m \"861eff4711a542e4b93843c6dd7febb0\", \"290c77b…\n",
      "$ customer_zip_code_prefix \u001b[3m\u001b[90m<int>\u001b[39m\u001b[23m 14409, 9790, 1151, 8775, 13056, 89254, 4534,…\n",
      "$ customer_city            \u001b[3m\u001b[90m<chr>\u001b[39m\u001b[23m \"franca\", \"sao bernardo do campo\", \"sao paul…\n",
      "$ customer_state           \u001b[3m\u001b[90m<chr>\u001b[39m\u001b[23m \"SP\", \"SP\", \"SP\", \"SP\", \"SP\", \"SC\", \"SP\", \"M…\n"
     ]
    },
    {
     "data": {
      "text/html": [
       "<table>\n",
       "<caption>A tibble: 0 × 2</caption>\n",
       "<thead>\n",
       "\t<tr><th scope=col>customer_id</th><th scope=col>n</th></tr>\n",
       "\t<tr><th scope=col>&lt;chr&gt;</th><th scope=col>&lt;int&gt;</th></tr>\n",
       "</thead>\n",
       "<tbody>\n",
       "</tbody>\n",
       "</table>\n"
      ],
      "text/latex": [
       "A tibble: 0 × 2\n",
       "\\begin{tabular}{r|ll}\n",
       " customer\\_id & n\\\\\n",
       " <chr> & <int>\\\\\n",
       "\\hline\n",
       "\\end{tabular}\n"
      ],
      "text/markdown": [
       "\n",
       "A tibble: 0 × 2\n",
       "\n",
       "| customer_id &lt;chr&gt; | n &lt;int&gt; |\n",
       "|---|---|\n",
       "\n"
      ],
      "text/plain": [
       "     customer_id n"
      ]
     },
     "metadata": {},
     "output_type": "display_data"
    },
    {
     "data": {
      "text/html": [
       "<table>\n",
       "<caption>A tibble: 6 × 2</caption>\n",
       "<thead>\n",
       "\t<tr><th scope=col>customer_unique_id</th><th scope=col>n</th></tr>\n",
       "\t<tr><th scope=col>&lt;chr&gt;</th><th scope=col>&lt;int&gt;</th></tr>\n",
       "</thead>\n",
       "<tbody>\n",
       "\t<tr><td>8d50f5eadf50201ccdcedfb9e2ac8455</td><td>17</td></tr>\n",
       "\t<tr><td>3e43e6105506432c953e165fb2acf44c</td><td> 9</td></tr>\n",
       "\t<tr><td>1b6c7548a2a1f9037c1fd3ddfed95f33</td><td> 7</td></tr>\n",
       "\t<tr><td>6469f99c1f9dfae7733b25662e7f1782</td><td> 7</td></tr>\n",
       "\t<tr><td>ca77025e7201e3b30c44b472ff346268</td><td> 7</td></tr>\n",
       "\t<tr><td>12f5d6e1cbf93dafd9dcc19095df0b3d</td><td> 6</td></tr>\n",
       "</tbody>\n",
       "</table>\n"
      ],
      "text/latex": [
       "A tibble: 6 × 2\n",
       "\\begin{tabular}{r|ll}\n",
       " customer\\_unique\\_id & n\\\\\n",
       " <chr> & <int>\\\\\n",
       "\\hline\n",
       "\t 8d50f5eadf50201ccdcedfb9e2ac8455 & 17\\\\\n",
       "\t 3e43e6105506432c953e165fb2acf44c &  9\\\\\n",
       "\t 1b6c7548a2a1f9037c1fd3ddfed95f33 &  7\\\\\n",
       "\t 6469f99c1f9dfae7733b25662e7f1782 &  7\\\\\n",
       "\t ca77025e7201e3b30c44b472ff346268 &  7\\\\\n",
       "\t 12f5d6e1cbf93dafd9dcc19095df0b3d &  6\\\\\n",
       "\\end{tabular}\n"
      ],
      "text/markdown": [
       "\n",
       "A tibble: 6 × 2\n",
       "\n",
       "| customer_unique_id &lt;chr&gt; | n &lt;int&gt; |\n",
       "|---|---|\n",
       "| 8d50f5eadf50201ccdcedfb9e2ac8455 | 17 |\n",
       "| 3e43e6105506432c953e165fb2acf44c |  9 |\n",
       "| 1b6c7548a2a1f9037c1fd3ddfed95f33 |  7 |\n",
       "| 6469f99c1f9dfae7733b25662e7f1782 |  7 |\n",
       "| ca77025e7201e3b30c44b472ff346268 |  7 |\n",
       "| 12f5d6e1cbf93dafd9dcc19095df0b3d |  6 |\n",
       "\n"
      ],
      "text/plain": [
       "  customer_unique_id               n \n",
       "1 8d50f5eadf50201ccdcedfb9e2ac8455 17\n",
       "2 3e43e6105506432c953e165fb2acf44c  9\n",
       "3 1b6c7548a2a1f9037c1fd3ddfed95f33  7\n",
       "4 6469f99c1f9dfae7733b25662e7f1782  7\n",
       "5 ca77025e7201e3b30c44b472ff346268  7\n",
       "6 12f5d6e1cbf93dafd9dcc19095df0b3d  6"
      ]
     },
     "metadata": {},
     "output_type": "display_data"
    },
    {
     "data": {
      "text/html": [
       "<table>\n",
       "<caption>A tibble: 6 × 2</caption>\n",
       "<thead>\n",
       "\t<tr><th scope=col>customer_state</th><th scope=col>n</th></tr>\n",
       "\t<tr><th scope=col>&lt;chr&gt;</th><th scope=col>&lt;int&gt;</th></tr>\n",
       "</thead>\n",
       "<tbody>\n",
       "\t<tr><td>SP</td><td>41746</td></tr>\n",
       "\t<tr><td>RJ</td><td>12852</td></tr>\n",
       "\t<tr><td>MG</td><td>11635</td></tr>\n",
       "\t<tr><td>RS</td><td> 5466</td></tr>\n",
       "\t<tr><td>PR</td><td> 5045</td></tr>\n",
       "\t<tr><td>SC</td><td> 3637</td></tr>\n",
       "</tbody>\n",
       "</table>\n"
      ],
      "text/latex": [
       "A tibble: 6 × 2\n",
       "\\begin{tabular}{r|ll}\n",
       " customer\\_state & n\\\\\n",
       " <chr> & <int>\\\\\n",
       "\\hline\n",
       "\t SP & 41746\\\\\n",
       "\t RJ & 12852\\\\\n",
       "\t MG & 11635\\\\\n",
       "\t RS &  5466\\\\\n",
       "\t PR &  5045\\\\\n",
       "\t SC &  3637\\\\\n",
       "\\end{tabular}\n"
      ],
      "text/markdown": [
       "\n",
       "A tibble: 6 × 2\n",
       "\n",
       "| customer_state &lt;chr&gt; | n &lt;int&gt; |\n",
       "|---|---|\n",
       "| SP | 41746 |\n",
       "| RJ | 12852 |\n",
       "| MG | 11635 |\n",
       "| RS |  5466 |\n",
       "| PR |  5045 |\n",
       "| SC |  3637 |\n",
       "\n"
      ],
      "text/plain": [
       "  customer_state n    \n",
       "1 SP             41746\n",
       "2 RJ             12852\n",
       "3 MG             11635\n",
       "4 RS              5466\n",
       "5 PR              5045\n",
       "6 SC              3637"
      ]
     },
     "metadata": {},
     "output_type": "display_data"
    }
   ],
   "source": [
    "glimpse(customers)\n",
    "\n",
    "customers %>% \n",
    "  count(customer_id, sort = T) %>% \n",
    "  filter(n > 1) %>% \n",
    "  head()\n",
    "\n",
    "customers %>% \n",
    "  count(customer_unique_id, sort = T) %>% \n",
    "  filter(n > 1) %>% \n",
    "  head()\n",
    "\n",
    "customers %>% \n",
    "  count(customer_state, sort = T) %>% \n",
    "  head()"
   ]
  },
  {
   "cell_type": "markdown",
   "metadata": {},
   "source": [
    "## Produtos"
   ]
  },
  {
   "cell_type": "code",
   "execution_count": 4,
   "metadata": {},
   "outputs": [
    {
     "name": "stdout",
     "output_type": "stream",
     "text": [
      "Observations: 32,951\n",
      "Variables: 9\n",
      "$ product_id                 \u001b[3m\u001b[90m<chr>\u001b[39m\u001b[23m \"1e9e8ef04dbcff4541ed26657ea517e5\", \"3aa07…\n",
      "$ product_category_name      \u001b[3m\u001b[90m<chr>\u001b[39m\u001b[23m \"perfumaria\", \"artes\", \"esporte_lazer\", \"b…\n",
      "$ product_name_lenght        \u001b[3m\u001b[90m<int>\u001b[39m\u001b[23m 40, 44, 46, 27, 37, 60, 56, 56, 57, 36, 54…\n",
      "$ product_description_lenght \u001b[3m\u001b[90m<int>\u001b[39m\u001b[23m 287, 276, 250, 261, 402, 745, 1272, 184, 1…\n",
      "$ product_photos_qty         \u001b[3m\u001b[90m<int>\u001b[39m\u001b[23m 1, 1, 1, 1, 4, 1, 4, 2, 1, 1, 1, 4, 3, 2, …\n",
      "$ product_weight_g           \u001b[3m\u001b[90m<int>\u001b[39m\u001b[23m 225, 1000, 154, 371, 625, 200, 18350, 900,…\n",
      "$ product_length_cm          \u001b[3m\u001b[90m<int>\u001b[39m\u001b[23m 16, 30, 18, 26, 20, 38, 70, 40, 27, 17, 16…\n",
      "$ product_height_cm          \u001b[3m\u001b[90m<int>\u001b[39m\u001b[23m 10, 18, 9, 4, 17, 5, 24, 8, 13, 10, 10, 19…\n",
      "$ product_width_cm           \u001b[3m\u001b[90m<int>\u001b[39m\u001b[23m 14, 20, 15, 26, 13, 11, 44, 40, 17, 12, 16…\n"
     ]
    },
    {
     "data": {
      "text/html": [
       "<table>\n",
       "<caption>A tibble: 6 × 2</caption>\n",
       "<thead>\n",
       "\t<tr><th scope=col>product_category_name</th><th scope=col>n</th></tr>\n",
       "\t<tr><th scope=col>&lt;chr&gt;</th><th scope=col>&lt;int&gt;</th></tr>\n",
       "</thead>\n",
       "<tbody>\n",
       "\t<tr><td>cama_mesa_banho      </td><td>3029</td></tr>\n",
       "\t<tr><td>esporte_lazer        </td><td>2867</td></tr>\n",
       "\t<tr><td>moveis_decoracao     </td><td>2657</td></tr>\n",
       "\t<tr><td>beleza_saude         </td><td>2444</td></tr>\n",
       "\t<tr><td>utilidades_domesticas</td><td>2335</td></tr>\n",
       "\t<tr><td>automotivo           </td><td>1900</td></tr>\n",
       "</tbody>\n",
       "</table>\n"
      ],
      "text/latex": [
       "A tibble: 6 × 2\n",
       "\\begin{tabular}{r|ll}\n",
       " product\\_category\\_name & n\\\\\n",
       " <chr> & <int>\\\\\n",
       "\\hline\n",
       "\t cama\\_mesa\\_banho       & 3029\\\\\n",
       "\t esporte\\_lazer         & 2867\\\\\n",
       "\t moveis\\_decoracao      & 2657\\\\\n",
       "\t beleza\\_saude          & 2444\\\\\n",
       "\t utilidades\\_domesticas & 2335\\\\\n",
       "\t automotivo            & 1900\\\\\n",
       "\\end{tabular}\n"
      ],
      "text/markdown": [
       "\n",
       "A tibble: 6 × 2\n",
       "\n",
       "| product_category_name &lt;chr&gt; | n &lt;int&gt; |\n",
       "|---|---|\n",
       "| cama_mesa_banho       | 3029 |\n",
       "| esporte_lazer         | 2867 |\n",
       "| moveis_decoracao      | 2657 |\n",
       "| beleza_saude          | 2444 |\n",
       "| utilidades_domesticas | 2335 |\n",
       "| automotivo            | 1900 |\n",
       "\n"
      ],
      "text/plain": [
       "  product_category_name n   \n",
       "1 cama_mesa_banho       3029\n",
       "2 esporte_lazer         2867\n",
       "3 moveis_decoracao      2657\n",
       "4 beleza_saude          2444\n",
       "5 utilidades_domesticas 2335\n",
       "6 automotivo            1900"
      ]
     },
     "metadata": {},
     "output_type": "display_data"
    }
   ],
   "source": [
    "glimpse(products)\n",
    "\n",
    "products %>% \n",
    "  count(product_category_name, sort = T) %>% \n",
    "  head()"
   ]
  },
  {
   "cell_type": "markdown",
   "metadata": {},
   "source": [
    "## Pedidos"
   ]
  },
  {
   "cell_type": "code",
   "execution_count": 5,
   "metadata": {},
   "outputs": [
    {
     "name": "stdout",
     "output_type": "stream",
     "text": [
      "Observations: 99,441\n",
      "Variables: 8\n",
      "$ order_id                      \u001b[3m\u001b[90m<chr>\u001b[39m\u001b[23m \"e481f51cbdc54678b7cc49136f2d6af7\", \"53…\n",
      "$ customer_id                   \u001b[3m\u001b[90m<chr>\u001b[39m\u001b[23m \"9ef432eb6251297304e76186b10a928d\", \"b0…\n",
      "$ order_status                  \u001b[3m\u001b[90m<chr>\u001b[39m\u001b[23m \"delivered\", \"delivered\", \"delivered\", …\n",
      "$ order_purchase_timestamp      \u001b[3m\u001b[90m<chr>\u001b[39m\u001b[23m \"2017-10-02 10:56:33\", \"2018-07-24 20:4…\n",
      "$ order_approved_at             \u001b[3m\u001b[90m<chr>\u001b[39m\u001b[23m \"2017-10-02 11:07:15\", \"2018-07-26 03:2…\n",
      "$ order_delivered_carrier_date  \u001b[3m\u001b[90m<chr>\u001b[39m\u001b[23m \"2017-10-04 19:55:00\", \"2018-07-26 14:3…\n",
      "$ order_delivered_customer_date \u001b[3m\u001b[90m<chr>\u001b[39m\u001b[23m \"2017-10-10 21:25:13\", \"2018-08-07 15:2…\n",
      "$ order_estimated_delivery_date \u001b[3m\u001b[90m<chr>\u001b[39m\u001b[23m \"2017-10-18 00:00:00\", \"2018-08-13 00:0…\n"
     ]
    },
    {
     "data": {
      "text/html": [
       "<table>\n",
       "<caption>A tibble: 8 × 2</caption>\n",
       "<thead>\n",
       "\t<tr><th scope=col>order_status</th><th scope=col>n</th></tr>\n",
       "\t<tr><th scope=col>&lt;chr&gt;</th><th scope=col>&lt;int&gt;</th></tr>\n",
       "</thead>\n",
       "<tbody>\n",
       "\t<tr><td>delivered  </td><td>96478</td></tr>\n",
       "\t<tr><td>shipped    </td><td> 1107</td></tr>\n",
       "\t<tr><td>canceled   </td><td>  625</td></tr>\n",
       "\t<tr><td>unavailable</td><td>  609</td></tr>\n",
       "\t<tr><td>invoiced   </td><td>  314</td></tr>\n",
       "\t<tr><td>processing </td><td>  301</td></tr>\n",
       "\t<tr><td>created    </td><td>    5</td></tr>\n",
       "\t<tr><td>approved   </td><td>    2</td></tr>\n",
       "</tbody>\n",
       "</table>\n"
      ],
      "text/latex": [
       "A tibble: 8 × 2\n",
       "\\begin{tabular}{r|ll}\n",
       " order\\_status & n\\\\\n",
       " <chr> & <int>\\\\\n",
       "\\hline\n",
       "\t delivered   & 96478\\\\\n",
       "\t shipped     &  1107\\\\\n",
       "\t canceled    &   625\\\\\n",
       "\t unavailable &   609\\\\\n",
       "\t invoiced    &   314\\\\\n",
       "\t processing  &   301\\\\\n",
       "\t created     &     5\\\\\n",
       "\t approved    &     2\\\\\n",
       "\\end{tabular}\n"
      ],
      "text/markdown": [
       "\n",
       "A tibble: 8 × 2\n",
       "\n",
       "| order_status &lt;chr&gt; | n &lt;int&gt; |\n",
       "|---|---|\n",
       "| delivered   | 96478 |\n",
       "| shipped     |  1107 |\n",
       "| canceled    |   625 |\n",
       "| unavailable |   609 |\n",
       "| invoiced    |   314 |\n",
       "| processing  |   301 |\n",
       "| created     |     5 |\n",
       "| approved    |     2 |\n",
       "\n"
      ],
      "text/plain": [
       "  order_status n    \n",
       "1 delivered    96478\n",
       "2 shipped       1107\n",
       "3 canceled       625\n",
       "4 unavailable    609\n",
       "5 invoiced       314\n",
       "6 processing     301\n",
       "7 created          5\n",
       "8 approved         2"
      ]
     },
     "metadata": {},
     "output_type": "display_data"
    },
    {
     "data": {
      "text/html": [
       "<table>\n",
       "<caption>A tibble: 1 × 2</caption>\n",
       "<thead>\n",
       "\t<tr><th scope=col>Tempo_medio_aprovacao_entrega</th><th scope=col>Tempo_medio_estimado_realizado</th></tr>\n",
       "\t<tr><th scope=col>&lt;dbl&gt;</th><th scope=col>&lt;dbl&gt;</th></tr>\n",
       "</thead>\n",
       "<tbody>\n",
       "\t<tr><td>11.64297</td><td>10.87688</td></tr>\n",
       "</tbody>\n",
       "</table>\n"
      ],
      "text/latex": [
       "A tibble: 1 × 2\n",
       "\\begin{tabular}{r|ll}\n",
       " Tempo\\_medio\\_aprovacao\\_entrega & Tempo\\_medio\\_estimado\\_realizado\\\\\n",
       " <dbl> & <dbl>\\\\\n",
       "\\hline\n",
       "\t 11.64297 & 10.87688\\\\\n",
       "\\end{tabular}\n"
      ],
      "text/markdown": [
       "\n",
       "A tibble: 1 × 2\n",
       "\n",
       "| Tempo_medio_aprovacao_entrega &lt;dbl&gt; | Tempo_medio_estimado_realizado &lt;dbl&gt; |\n",
       "|---|---|\n",
       "| 11.64297 | 10.87688 |\n",
       "\n"
      ],
      "text/plain": [
       "  Tempo_medio_aprovacao_entrega Tempo_medio_estimado_realizado\n",
       "1 11.64297                      10.87688                      "
      ]
     },
     "metadata": {},
     "output_type": "display_data"
    }
   ],
   "source": [
    "glimpse(orders)\n",
    "\n",
    "orders %>% \n",
    "  count(order_status, sort = T)\n",
    "\n",
    "orders %>% \n",
    "  mutate_at(vars(4:8), lubridate::as_datetime) %>% \n",
    "  mutate(tempo_aprovacao_entrega = difftime(order_delivered_customer_date, order_approved_at, units = \"days\") %>% \n",
    "           as.numeric() %>% \n",
    "           floor(),\n",
    "         tempo_estimado_realizado = difftime(order_estimated_delivery_date, order_delivered_customer_date, units = \"days\") %>% \n",
    "           as.numeric() %>% \n",
    "           floor()) %>% \n",
    "  as_tibble() %>% \n",
    "  summarise(Tempo_medio_aprovacao_entrega = mean(tempo_aprovacao_entrega, na.rm = T),\n",
    "            Tempo_medio_estimado_realizado = mean(tempo_estimado_realizado, na.rm = T))"
   ]
  },
  {
   "cell_type": "markdown",
   "metadata": {},
   "source": [
    "## Pagamento"
   ]
  },
  {
   "cell_type": "code",
   "execution_count": 6,
   "metadata": {},
   "outputs": [
    {
     "data": {
      "text/plain": [
       "    Min.  1st Qu.   Median     Mean  3rd Qu.     Max. \n",
       "    0.00    56.79   100.00   154.10   171.84 13664.08 "
      ]
     },
     "metadata": {},
     "output_type": "display_data"
    },
    {
     "data": {
      "text/html": [
       "<table>\n",
       "<caption>A tibble: 5 × 2</caption>\n",
       "<thead>\n",
       "\t<tr><th scope=col>payment_type</th><th scope=col>n</th></tr>\n",
       "\t<tr><th scope=col>&lt;chr&gt;</th><th scope=col>&lt;int&gt;</th></tr>\n",
       "</thead>\n",
       "<tbody>\n",
       "\t<tr><td>credit_card</td><td>76795</td></tr>\n",
       "\t<tr><td>boleto     </td><td>19784</td></tr>\n",
       "\t<tr><td>voucher    </td><td> 5775</td></tr>\n",
       "\t<tr><td>debit_card </td><td> 1529</td></tr>\n",
       "\t<tr><td>not_defined</td><td>    3</td></tr>\n",
       "</tbody>\n",
       "</table>\n"
      ],
      "text/latex": [
       "A tibble: 5 × 2\n",
       "\\begin{tabular}{r|ll}\n",
       " payment\\_type & n\\\\\n",
       " <chr> & <int>\\\\\n",
       "\\hline\n",
       "\t credit\\_card & 76795\\\\\n",
       "\t boleto      & 19784\\\\\n",
       "\t voucher     &  5775\\\\\n",
       "\t debit\\_card  &  1529\\\\\n",
       "\t not\\_defined &     3\\\\\n",
       "\\end{tabular}\n"
      ],
      "text/markdown": [
       "\n",
       "A tibble: 5 × 2\n",
       "\n",
       "| payment_type &lt;chr&gt; | n &lt;int&gt; |\n",
       "|---|---|\n",
       "| credit_card | 76795 |\n",
       "| boleto      | 19784 |\n",
       "| voucher     |  5775 |\n",
       "| debit_card  |  1529 |\n",
       "| not_defined |     3 |\n",
       "\n"
      ],
      "text/plain": [
       "  payment_type n    \n",
       "1 credit_card  76795\n",
       "2 boleto       19784\n",
       "3 voucher       5775\n",
       "4 debit_card    1529\n",
       "5 not_defined      3"
      ]
     },
     "metadata": {},
     "output_type": "display_data"
    }
   ],
   "source": [
    "summary(payments$payment_value)\n",
    "\n",
    "payments %>% \n",
    "  count(payment_type, sort = T) %>% \n",
    "  head()\n"
   ]
  },
  {
   "cell_type": "markdown",
   "metadata": {},
   "source": [
    "## Reviews"
   ]
  },
  {
   "cell_type": "code",
   "execution_count": 7,
   "metadata": {},
   "outputs": [
    {
     "name": "stdout",
     "output_type": "stream",
     "text": [
      "Observations: 100,000\n",
      "Variables: 7\n",
      "$ review_id               \u001b[3m\u001b[90m<chr>\u001b[39m\u001b[23m \"7bc2406110b926393aa56f80a40eba40\", \"80e641a1…\n",
      "$ order_id                \u001b[3m\u001b[90m<chr>\u001b[39m\u001b[23m \"73fc7af87114b39712e6da79b0a377eb\", \"a548910a…\n",
      "$ review_score            \u001b[3m\u001b[90m<int>\u001b[39m\u001b[23m 4, 5, 5, 5, 5, 1, 5, 5, 5, 4, 5, 5, 4, 4, 3, …\n",
      "$ review_comment_title    \u001b[3m\u001b[90m<chr>\u001b[39m\u001b[23m \"\", \"\", \"\", \"\", \"\", \"\", \"\", \"\", \"\", \"recomend…\n",
      "$ review_comment_message  \u001b[3m\u001b[90m<chr>\u001b[39m\u001b[23m \"\", \"\", \"\", \"Recebi bem antes do prazo estipu…\n",
      "$ review_creation_date    \u001b[3m\u001b[90m<chr>\u001b[39m\u001b[23m \"2018-01-18 00:00:00\", \"2018-03-10 00:00:00\",…\n",
      "$ review_answer_timestamp \u001b[3m\u001b[90m<chr>\u001b[39m\u001b[23m \"2018-01-18 21:46:59\", \"2018-03-11 03:05:13\",…\n"
     ]
    },
    {
     "data": {
      "text/plain": [
       "   Min. 1st Qu.  Median    Mean 3rd Qu.    Max. \n",
       "  1.000   4.000   5.000   4.071   5.000   5.000 "
      ]
     },
     "metadata": {},
     "output_type": "display_data"
    },
    {
     "data": {
      "text/html": [
       "<table>\n",
       "<caption>A tibble: 5 × 2</caption>\n",
       "<thead>\n",
       "\t<tr><th scope=col>review_score</th><th scope=col>n</th></tr>\n",
       "\t<tr><th scope=col>&lt;int&gt;</th><th scope=col>&lt;int&gt;</th></tr>\n",
       "</thead>\n",
       "<tbody>\n",
       "\t<tr><td>5</td><td>57420</td></tr>\n",
       "\t<tr><td>4</td><td>19200</td></tr>\n",
       "\t<tr><td>1</td><td>11858</td></tr>\n",
       "\t<tr><td>3</td><td> 8287</td></tr>\n",
       "\t<tr><td>2</td><td> 3235</td></tr>\n",
       "</tbody>\n",
       "</table>\n"
      ],
      "text/latex": [
       "A tibble: 5 × 2\n",
       "\\begin{tabular}{r|ll}\n",
       " review\\_score & n\\\\\n",
       " <int> & <int>\\\\\n",
       "\\hline\n",
       "\t 5 & 57420\\\\\n",
       "\t 4 & 19200\\\\\n",
       "\t 1 & 11858\\\\\n",
       "\t 3 &  8287\\\\\n",
       "\t 2 &  3235\\\\\n",
       "\\end{tabular}\n"
      ],
      "text/markdown": [
       "\n",
       "A tibble: 5 × 2\n",
       "\n",
       "| review_score &lt;int&gt; | n &lt;int&gt; |\n",
       "|---|---|\n",
       "| 5 | 57420 |\n",
       "| 4 | 19200 |\n",
       "| 1 | 11858 |\n",
       "| 3 |  8287 |\n",
       "| 2 |  3235 |\n",
       "\n"
      ],
      "text/plain": [
       "  review_score n    \n",
       "1 5            57420\n",
       "2 4            19200\n",
       "3 1            11858\n",
       "4 3             8287\n",
       "5 2             3235"
      ]
     },
     "metadata": {},
     "output_type": "display_data"
    }
   ],
   "source": [
    "glimpse(reviews) \n",
    "\n",
    "summary(reviews$review_score)\n",
    "\n",
    "reviews %>% \n",
    "  count(review_score, sort = T) %>% \n",
    "  head()"
   ]
  },
  {
   "cell_type": "markdown",
   "metadata": {},
   "source": [
    "## Vendedores"
   ]
  },
  {
   "cell_type": "code",
   "execution_count": 8,
   "metadata": {},
   "outputs": [
    {
     "name": "stdout",
     "output_type": "stream",
     "text": [
      "Observations: 3,095\n",
      "Variables: 4\n",
      "$ seller_id              \u001b[3m\u001b[90m<chr>\u001b[39m\u001b[23m \"3442f8959a84dea7ee197c632cb2df15\", \"d1b65fc7d…\n",
      "$ seller_zip_code_prefix \u001b[3m\u001b[90m<int>\u001b[39m\u001b[23m 13023, 13844, 20031, 4195, 12914, 20920, 55325…\n",
      "$ seller_city            \u001b[3m\u001b[90m<chr>\u001b[39m\u001b[23m \"campinas\", \"mogi guacu\", \"rio de janeiro\", \"s…\n",
      "$ seller_state           \u001b[3m\u001b[90m<chr>\u001b[39m\u001b[23m \"SP\", \"SP\", \"RJ\", \"SP\", \"SP\", \"RJ\", \"PE\", \"SP\"…\n"
     ]
    },
    {
     "data": {
      "text/html": [
       "<table>\n",
       "<caption>A tibble: 6 × 2</caption>\n",
       "<thead>\n",
       "\t<tr><th scope=col>seller_state</th><th scope=col>n</th></tr>\n",
       "\t<tr><th scope=col>&lt;chr&gt;</th><th scope=col>&lt;int&gt;</th></tr>\n",
       "</thead>\n",
       "<tbody>\n",
       "\t<tr><td>SP</td><td>1849</td></tr>\n",
       "\t<tr><td>PR</td><td> 349</td></tr>\n",
       "\t<tr><td>MG</td><td> 244</td></tr>\n",
       "\t<tr><td>SC</td><td> 190</td></tr>\n",
       "\t<tr><td>RJ</td><td> 171</td></tr>\n",
       "\t<tr><td>RS</td><td> 129</td></tr>\n",
       "</tbody>\n",
       "</table>\n"
      ],
      "text/latex": [
       "A tibble: 6 × 2\n",
       "\\begin{tabular}{r|ll}\n",
       " seller\\_state & n\\\\\n",
       " <chr> & <int>\\\\\n",
       "\\hline\n",
       "\t SP & 1849\\\\\n",
       "\t PR &  349\\\\\n",
       "\t MG &  244\\\\\n",
       "\t SC &  190\\\\\n",
       "\t RJ &  171\\\\\n",
       "\t RS &  129\\\\\n",
       "\\end{tabular}\n"
      ],
      "text/markdown": [
       "\n",
       "A tibble: 6 × 2\n",
       "\n",
       "| seller_state &lt;chr&gt; | n &lt;int&gt; |\n",
       "|---|---|\n",
       "| SP | 1849 |\n",
       "| PR |  349 |\n",
       "| MG |  244 |\n",
       "| SC |  190 |\n",
       "| RJ |  171 |\n",
       "| RS |  129 |\n",
       "\n"
      ],
      "text/plain": [
       "  seller_state n   \n",
       "1 SP           1849\n",
       "2 PR            349\n",
       "3 MG            244\n",
       "4 SC            190\n",
       "5 RJ            171\n",
       "6 RS            129"
      ]
     },
     "metadata": {},
     "output_type": "display_data"
    }
   ],
   "source": [
    "glimpse(sellers)\n",
    "\n",
    "sellers %>% \n",
    "  count(seller_state, sort = T) %>% \n",
    "  head()"
   ]
  },
  {
   "cell_type": "markdown",
   "metadata": {},
   "source": [
    "# Análise de basket"
   ]
  },
  {
   "cell_type": "code",
   "execution_count": 9,
   "metadata": {},
   "outputs": [
    {
     "name": "stdout",
     "output_type": "stream",
     "text": [
      "Apriori\n",
      "\n",
      "Parameter specification:\n",
      " confidence minval smax arem  aval originalSupport maxtime support minlen\n",
      "      0.025    0.1    1 none FALSE            TRUE       5   5e-04      2\n",
      " maxlen target   ext\n",
      "      2  rules FALSE\n",
      "\n",
      "Algorithmic control:\n",
      " filter tree heap memopt load sort verbose\n",
      "    0.1 TRUE TRUE  FALSE TRUE    2    TRUE\n",
      "\n",
      "Absolute minimum support count: 0 \n",
      "\n",
      "set item appearances ...[0 item(s)] done [0.00s].\n",
      "set transactions ...[61 item(s), 727 transaction(s)] done [0.00s].\n",
      "sorting and recoding items ... [61 item(s)] done [0.00s].\n",
      "creating transaction tree ... done [0.00s].\n",
      "checking subsets of size 1 2"
     ]
    },
    {
     "name": "stderr",
     "output_type": "stream",
     "text": [
      "Warning message in apriori(lista_transacoes, parameter = list(support = 5e-04, confidence = 0.025, :\n",
      "“Mining stopped (maxlen reached). Only patterns up to a length of 2 returned!”"
     ]
    },
    {
     "name": "stdout",
     "output_type": "stream",
     "text": [
      " done [0.00s].\n",
      "writing ... [355 rule(s)] done [0.00s].\n",
      "creating S4 object  ... done [0.00s].\n"
     ]
    },
    {
     "data": {
      "text/plain": [
       "set of 355 rules "
      ]
     },
     "metadata": {},
     "output_type": "display_data"
    }
   ],
   "source": [
    "dados_basket <- orders %>% \n",
    "  left_join(items, by = \"order_id\") %>% \n",
    "  left_join(products, by = \"product_id\") %>% \n",
    "  as_tibble() %>% \n",
    "  distinct(order_id, product_category_name) %>% \n",
    "  filter(product_category_name != \"\") %>% \n",
    "  group_by(order_id) %>% \n",
    "  filter(n() > 1) %>% \n",
    "  ungroup() %>% \n",
    "  data.table::as.data.table()\n",
    "\n",
    "# Transformando em lista por transações, para realizar basket analysis\n",
    "\n",
    "lista_transacoes <- split(dados_basket[[\"product_category_name\"]], dados_basket[[\"order_id\"]])\n",
    "\n",
    "# require(arules)\n",
    "\n",
    "lista_transacoes <- lista_transacoes %>% \n",
    "    as(\"transactions\")\n",
    "\n",
    "# Minerando regras de associação \n",
    "\n",
    "regras <- apriori(lista_transacoes, parameter = list(support = 0.0005, confidence = 0.025,\n",
    "                                          minlen = 2, maxlen = 2))\n",
    "\n",
    "\n",
    "\n",
    "regras"
   ]
  },
  {
   "cell_type": "code",
   "execution_count": 20,
   "metadata": {},
   "outputs": [],
   "source": [
    "require(reticulate)\n",
    "use_python(\"/opt/anaconda3/bin/python3\")"
   ]
  },
  {
   "cell_type": "code",
   "execution_count": 21,
   "metadata": {},
   "outputs": [],
   "source": [
    "\n",
    "aprioripy <- reticulate::import(\"mlxtend\")"
   ]
  },
  {
   "cell_type": "code",
   "execution_count": null,
   "metadata": {},
   "outputs": [],
   "source": [
    "aprioripy"
   ]
  },
  {
   "cell_type": "raw",
   "metadata": {},
   "source": [
    "https://github.com/conda-forge/mlxtend-feedstock"
   ]
  },
  {
   "cell_type": "raw",
   "metadata": {},
   "source": [
    "!conda config --add channels conda-forge"
   ]
  },
  {
   "cell_type": "raw",
   "metadata": {},
   "source": [
    "!conda install mlxtend"
   ]
  },
  {
   "cell_type": "code",
   "execution_count": 28,
   "metadata": {},
   "outputs": [],
   "source": [
    "redundant <- which(colSums(is.subset(regras, regras)) > 1)\n",
    "regras <- regras[-redundant]"
   ]
  },
  {
   "cell_type": "code",
   "execution_count": 29,
   "metadata": {},
   "outputs": [
    {
     "data": {
      "text/plain": [
       "set of 109 rules "
      ]
     },
     "metadata": {},
     "output_type": "display_data"
    }
   ],
   "source": [
    "regras"
   ]
  },
  {
   "cell_type": "code",
   "execution_count": 30,
   "metadata": {},
   "outputs": [
    {
     "data": {
      "text/html": [
       "<table>\n",
       "<caption>A tibble: 6 × 6</caption>\n",
       "<thead>\n",
       "\t<tr><th scope=col>Antecedente</th><th scope=col>Consequente</th><th scope=col>support</th><th scope=col>confidence</th><th scope=col>lift</th><th scope=col>count</th></tr>\n",
       "\t<tr><th scope=col>&lt;chr&gt;</th><th scope=col>&lt;chr&gt;</th><th scope=col>&lt;dbl&gt;</th><th scope=col>&lt;dbl&gt;</th><th scope=col>&lt;dbl&gt;</th><th scope=col>&lt;dbl&gt;</th></tr>\n",
       "</thead>\n",
       "<tbody>\n",
       "\t<tr><td>pc_gamer                </td><td> cool_stuff            </td><td>0.001375516</td><td>1.0</td><td>11.015152</td><td>1</td></tr>\n",
       "\t<tr><td>fashion_calcados        </td><td> bebes                 </td><td>0.002751032</td><td>1.0</td><td> 7.817204</td><td>2</td></tr>\n",
       "\t<tr><td>sinalizacao_e_seguranca </td><td> bebes                 </td><td>0.001375516</td><td>1.0</td><td> 7.817204</td><td>1</td></tr>\n",
       "\t<tr><td>artes_e_artesanato      </td><td> brinquedos            </td><td>0.001375516</td><td>0.5</td><td> 7.270000</td><td>1</td></tr>\n",
       "\t<tr><td>dvds_blu_ray            </td><td> informatica_acessorios</td><td>0.001375516</td><td>0.5</td><td> 7.127451</td><td>1</td></tr>\n",
       "\t<tr><td>climatizacao            </td><td> informatica_acessorios</td><td>0.001375516</td><td>0.5</td><td> 7.127451</td><td>1</td></tr>\n",
       "</tbody>\n",
       "</table>\n"
      ],
      "text/latex": [
       "A tibble: 6 × 6\n",
       "\\begin{tabular}{r|llllll}\n",
       " Antecedente & Consequente & support & confidence & lift & count\\\\\n",
       " <chr> & <chr> & <dbl> & <dbl> & <dbl> & <dbl>\\\\\n",
       "\\hline\n",
       "\t pc\\_gamer                 &  cool\\_stuff             & 0.001375516 & 1.0 & 11.015152 & 1\\\\\n",
       "\t fashion\\_calcados         &  bebes                  & 0.002751032 & 1.0 &  7.817204 & 2\\\\\n",
       "\t sinalizacao\\_e\\_seguranca  &  bebes                  & 0.001375516 & 1.0 &  7.817204 & 1\\\\\n",
       "\t artes\\_e\\_artesanato       &  brinquedos             & 0.001375516 & 0.5 &  7.270000 & 1\\\\\n",
       "\t dvds\\_blu\\_ray             &  informatica\\_acessorios & 0.001375516 & 0.5 &  7.127451 & 1\\\\\n",
       "\t climatizacao             &  informatica\\_acessorios & 0.001375516 & 0.5 &  7.127451 & 1\\\\\n",
       "\\end{tabular}\n"
      ],
      "text/markdown": [
       "\n",
       "A tibble: 6 × 6\n",
       "\n",
       "| Antecedente &lt;chr&gt; | Consequente &lt;chr&gt; | support &lt;dbl&gt; | confidence &lt;dbl&gt; | lift &lt;dbl&gt; | count &lt;dbl&gt; |\n",
       "|---|---|---|---|---|---|\n",
       "| pc_gamer                 |  cool_stuff             | 0.001375516 | 1.0 | 11.015152 | 1 |\n",
       "| fashion_calcados         |  bebes                  | 0.002751032 | 1.0 |  7.817204 | 2 |\n",
       "| sinalizacao_e_seguranca  |  bebes                  | 0.001375516 | 1.0 |  7.817204 | 1 |\n",
       "| artes_e_artesanato       |  brinquedos             | 0.001375516 | 0.5 |  7.270000 | 1 |\n",
       "| dvds_blu_ray             |  informatica_acessorios | 0.001375516 | 0.5 |  7.127451 | 1 |\n",
       "| climatizacao             |  informatica_acessorios | 0.001375516 | 0.5 |  7.127451 | 1 |\n",
       "\n"
      ],
      "text/plain": [
       "  Antecedente              Consequente             support     confidence\n",
       "1 pc_gamer                  cool_stuff             0.001375516 1.0       \n",
       "2 fashion_calcados          bebes                  0.002751032 1.0       \n",
       "3 sinalizacao_e_seguranca   bebes                  0.001375516 1.0       \n",
       "4 artes_e_artesanato        brinquedos             0.001375516 0.5       \n",
       "5 dvds_blu_ray              informatica_acessorios 0.001375516 0.5       \n",
       "6 climatizacao              informatica_acessorios 0.001375516 0.5       \n",
       "  lift      count\n",
       "1 11.015152 1    \n",
       "2  7.817204 2    \n",
       "3  7.817204 1    \n",
       "4  7.270000 1    \n",
       "5  7.127451 1    \n",
       "6  7.127451 1    "
      ]
     },
     "metadata": {},
     "output_type": "display_data"
    }
   ],
   "source": [
    "\n",
    "# \n",
    "basket <- regras %>% \n",
    "  as(\"data.frame\")\n",
    "\n",
    "basket <- basket %>% \n",
    "  tidyr::separate(rules, into = c(\"Antecedente\", \"Consequente\"), sep = \"=>\") %>% \n",
    "  mutate_at(vars(1:2), function(x){stringr::str_remove_all(x, \"\\\\{\") %>% \n",
    "      stringr::str_remove_all(\"\\\\}\")}) %>% \n",
    "  arrange(-lift, -support, -confidence) %>%\n",
    "  as_tibble()\n",
    "\n",
    "basket  %>% \n",
    "  head()\n"
   ]
  },
  {
   "cell_type": "code",
   "execution_count": null,
   "metadata": {},
   "outputs": [],
   "source": []
  }
 ],
 "metadata": {
  "kernelspec": {
   "display_name": "R",
   "language": "R",
   "name": "ir"
  },
  "language_info": {
   "codemirror_mode": "r",
   "file_extension": ".r",
   "mimetype": "text/x-r-source",
   "name": "R",
   "pygments_lexer": "r",
   "version": "3.5.3"
  }
 },
 "nbformat": 4,
 "nbformat_minor": 2
}
