{
 "cells": [
  {
   "cell_type": "markdown",
   "metadata": {},
   "source": [
    "## Exemplos reticulate e feather\n",
    "\n",
    "Para instalar o pacote `feather` no ambiente python do Anaconda, é necessário executar o seguinte comando:\n",
    "\n",
    "```\n",
    "conda install feather-format\n",
    "```\n",
    "\n",
    "Veja mais [aqui](https://github.com/conda-forge/feather-format-feedstock)\n",
    "\n",
    "Já para instalar no R:\n",
    "\n",
    "```\n",
    "install.packages(\"feather\")\n",
    "```"
   ]
  },
  {
   "cell_type": "code",
   "execution_count": 1,
   "metadata": {},
   "outputs": [
    {
     "name": "stderr",
     "output_type": "stream",
     "text": [
      "Loading required package: reticulate\n",
      "Loading required package: feather\n",
      "Loading required package: ggplot2\n"
     ]
    }
   ],
   "source": [
    "require(reticulate)\n",
    "require(feather)\n",
    "require(ggplot2)"
   ]
  },
  {
   "cell_type": "code",
   "execution_count": 2,
   "metadata": {},
   "outputs": [],
   "source": [
    "use_python(\"/opt/anaconda3/bin/python3\")"
   ]
  },
  {
   "cell_type": "markdown",
   "metadata": {},
   "source": [
    "Vamos dar *source* no script python que lê a base starwars e faz algumas sumarizações, salvando os dados resultantes em formato *feather*."
   ]
  },
  {
   "cell_type": "code",
   "execution_count": 7,
   "metadata": {},
   "outputs": [],
   "source": [
    "source_python(\"../Code/sumariza_starwars.py\")"
   ]
  },
  {
   "cell_type": "markdown",
   "metadata": {},
   "source": [
    "Vamos agora ler o objeto salvo pelo python no formato feather na nossa sessão de R:"
   ]
  },
  {
   "cell_type": "code",
   "execution_count": 8,
   "metadata": {},
   "outputs": [
    {
     "data": {
      "text/html": [
       "<table>\n",
       "<caption>A tibble: 2 × 4</caption>\n",
       "<thead>\n",
       "\t<tr><th scope=col>gender</th><th scope=col>height</th><th scope=col>mass</th><th scope=col>birth_year</th></tr>\n",
       "\t<tr><th scope=col>&lt;chr&gt;</th><th scope=col>&lt;dbl&gt;</th><th scope=col>&lt;dbl&gt;</th><th scope=col>&lt;dbl&gt;</th></tr>\n",
       "</thead>\n",
       "<tbody>\n",
       "\t<tr><td>female</td><td>165.6667</td><td>55.03333</td><td>43.00000</td></tr>\n",
       "\t<tr><td>male  </td><td>181.1739</td><td>83.70435</td><td>53.44783</td></tr>\n",
       "</tbody>\n",
       "</table>\n"
      ],
      "text/latex": [
       "A tibble: 2 × 4\n",
       "\\begin{tabular}{r|llll}\n",
       " gender & height & mass & birth\\_year\\\\\n",
       " <chr> & <dbl> & <dbl> & <dbl>\\\\\n",
       "\\hline\n",
       "\t female & 165.6667 & 55.03333 & 43.00000\\\\\n",
       "\t male   & 181.1739 & 83.70435 & 53.44783\\\\\n",
       "\\end{tabular}\n"
      ],
      "text/markdown": [
       "\n",
       "A tibble: 2 × 4\n",
       "\n",
       "| gender &lt;chr&gt; | height &lt;dbl&gt; | mass &lt;dbl&gt; | birth_year &lt;dbl&gt; |\n",
       "|---|---|---|---|\n",
       "| female | 165.6667 | 55.03333 | 43.00000 |\n",
       "| male   | 181.1739 | 83.70435 | 53.44783 |\n",
       "\n"
      ],
      "text/plain": [
       "  gender height   mass     birth_year\n",
       "1 female 165.6667 55.03333 43.00000  \n",
       "2 male   181.1739 83.70435 53.44783  "
      ]
     },
     "metadata": {},
     "output_type": "display_data"
    }
   ],
   "source": [
    "starwars_sumarizado <- read_feather(\"../Dados/sumarizado.feather\")\n",
    "starwars_sumarizado"
   ]
  },
  {
   "cell_type": "code",
   "execution_count": 9,
   "metadata": {},
   "outputs": [
    {
     "data": {
      "image/png": "[encoded data removed]",
      "text/plain": [
       "plot without title"
      ]
     },
     "metadata": {},
     "output_type": "display_data"
    }
   ],
   "source": [
    "ggplot(starwars_sumarizado) +\n",
    "    geom_bar(aes(x = gender, y = height), stat = \"identity\", fill = \"steelblue\") +\n",
    "    labs(x = \"Gênero\", y = \"Altura (cm)\") +\n",
    "    theme_bw()"
   ]
  }
 ],
 "metadata": {
  "kernelspec": {
   "display_name": "R",
   "language": "R",
   "name": "ir"
  },
  "language_info": {
   "codemirror_mode": "r",
   "file_extension": ".r",
   "mimetype": "text/x-r-source",
   "name": "R",
   "pygments_lexer": "r",
   "version": "3.5.3"
  }
 },
 "nbformat": 4,
 "nbformat_minor": 2
}
